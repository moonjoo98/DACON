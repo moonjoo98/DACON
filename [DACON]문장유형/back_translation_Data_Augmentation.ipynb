{
 "cells": [
  {
   "cell_type": "markdown",
   "metadata": {
    "id": "ZlKlkIDyV24J"
   },
   "source": [
    "### 1. CPU 및 GPU 환경설정"
   ]
  },
  {
   "cell_type": "code",
   "execution_count": 72,
   "metadata": {},
   "outputs": [
    {
     "name": "stdout",
     "output_type": "stream",
     "text": [
      "nvcc: NVIDIA (R) Cuda compiler driver\n",
      "Copyright (c) 2005-2020 NVIDIA Corporation\n",
      "Built on Mon_Oct_12_20:09:46_PDT_2020\n",
      "Cuda compilation tools, release 11.1, V11.1.105\n",
      "Build cuda_11.1.TC455_06.29190527_0\n",
      "Thu Dec 22 09:25:01 2022       \n",
      "+-----------------------------------------------------------------------------+\n",
      "| NVIDIA-SMI 510.47.03    Driver Version: 510.47.03    CUDA Version: 11.6     |\n",
      "|-------------------------------+----------------------+----------------------+\n",
      "| GPU  Name        Persistence-M| Bus-Id        Disp.A | Volatile Uncorr. ECC |\n",
      "| Fan  Temp  Perf  Pwr:Usage/Cap|         Memory-Usage | GPU-Util  Compute M. |\n",
      "|                               |                      |               MIG M. |\n",
      "|===============================+======================+======================|\n",
      "|   0  CUDA GPU            Off  | 00000000:61:00.0 Off |                  Off |\n",
      "| 30%   18C    P8     7W / 230W |   9697MiB / 24564MiB |      0%      Default |\n",
      "|                               |                      |                  N/A |\n",
      "+-------------------------------+----------------------+----------------------+\n",
      "                                                                               \n",
      "+-----------------------------------------------------------------------------+\n",
      "| Processes:                                                                  |\n",
      "|  GPU   GI   CI        PID   Type   Process name                  GPU Memory |\n",
      "|        ID   ID                                                   Usage      |\n",
      "|=============================================================================|\n",
      "|    0   N/A  N/A   3067911      C                                    9649MiB |\n",
      "+-----------------------------------------------------------------------------+\n"
     ]
    }
   ],
   "source": [
    "!nvcc --version\n",
    "!nvidia-smi"
   ]
  },
  {
   "cell_type": "code",
   "execution_count": 2,
   "metadata": {
    "id": "LHNRW2nXV24J"
   },
   "outputs": [
    {
     "data": {
      "text/plain": [
       "'CUDA GPU'"
      ]
     },
     "execution_count": 2,
     "metadata": {},
     "output_type": "execute_result"
    }
   ],
   "source": [
    "import os\n",
    "import random\n",
    "import numpy as np\n",
    "import pandas as pd\n",
    "from tqdm.auto import tqdm\n",
    "\n",
    "import warnings\n",
    "warnings.filterwarnings('ignore')\n",
    "\n",
    "import torch\n",
    "import torch.nn as nn\n",
    "import torch.optim as optim\n",
    "import torch.nn.functional as F\n",
    "import torch.backends.cudnn as cudnn\n",
    "from torch.utils.data import Dataset, DataLoader\n",
    "\n",
    "from sklearn.metrics import precision_score, recall_score, f1_score, classification_report\n",
    "\n",
    "device = torch.device('cuda:0' if torch.cuda.is_available() else 'cpu')\n",
    "torch.cuda.get_device_name(0)"
   ]
  },
  {
   "cell_type": "code",
   "execution_count": 3,
   "metadata": {
    "colab": {
     "base_uri": "https://localhost:8080/",
     "height": 35
    },
    "id": "9gXNSfHaV24K",
    "outputId": "155bdbc2-4399-4bc9-e18f-26a284fa225e"
   },
   "outputs": [],
   "source": [
    "CFG = {\n",
    "    'EPOCHS':5,\n",
    "    'LEARNING_RATE':1e-4,\n",
    "    'BATCH_SIZE':32,\n",
    "    'SEED':42\n",
    "}"
   ]
  },
  {
   "cell_type": "code",
   "execution_count": 4,
   "metadata": {},
   "outputs": [],
   "source": [
    "def seed_everything(seed):\n",
    "    random.seed(seed)\n",
    "    os.environ['PYTHONHASHSEED'] = str(seed)\n",
    "    np.random.seed(seed)\n",
    "    torch.manual_seed(seed)\n",
    "    torch.cuda.manual_seed(seed)\n",
    "    torch.backends.cudnn.deterministic = True\n",
    "    torch.backends.cudnn.benchmark = True\n",
    "\n",
    "seed_everything(CFG['SEED']) # Seed 고정"
   ]
  },
  {
   "cell_type": "markdown",
   "metadata": {
    "id": "5FqL2R0_V24L"
   },
   "source": [
    "### 2. 데이터셋"
   ]
  },
  {
   "cell_type": "code",
   "execution_count": 5,
   "metadata": {},
   "outputs": [
    {
     "data": {
      "text/plain": [
       "((32511, 7), (43049, 7), (7090, 2))"
      ]
     },
     "execution_count": 5,
     "metadata": {},
     "output_type": "execute_result"
    }
   ],
   "source": [
    "#train = pd.read_csv('data/train.csv')\n",
    "train1 = pd.read_csv('data/유형_시제_aug_final.csv')\n",
    "train2 = pd.read_csv('data/극성_확실성_aug_final.csv')\n",
    "test = pd.read_csv('data/test.csv')\n",
    "\n",
    "train1.shape, train2.shape, test.shape"
   ]
  },
  {
   "cell_type": "code",
   "execution_count": 6,
   "metadata": {},
   "outputs": [
    {
     "data": {
      "text/html": [
       "<div>\n",
       "<style scoped>\n",
       "    .dataframe tbody tr th:only-of-type {\n",
       "        vertical-align: middle;\n",
       "    }\n",
       "\n",
       "    .dataframe tbody tr th {\n",
       "        vertical-align: top;\n",
       "    }\n",
       "\n",
       "    .dataframe thead th {\n",
       "        text-align: right;\n",
       "    }\n",
       "</style>\n",
       "<table border=\"1\" class=\"dataframe\">\n",
       "  <thead>\n",
       "    <tr style=\"text-align: right;\">\n",
       "      <th></th>\n",
       "      <th>ID</th>\n",
       "      <th>문장</th>\n",
       "      <th>유형</th>\n",
       "      <th>극성</th>\n",
       "      <th>시제</th>\n",
       "      <th>확실성</th>\n",
       "      <th>label</th>\n",
       "    </tr>\n",
       "  </thead>\n",
       "  <tbody>\n",
       "    <tr>\n",
       "      <th>0</th>\n",
       "      <td>TRAIN_00000</td>\n",
       "      <td>0.75%포인트 금리 인상은 1994년 이후 28년 만에 처음이다.</td>\n",
       "      <td>사실형</td>\n",
       "      <td>긍정</td>\n",
       "      <td>현재</td>\n",
       "      <td>확실</td>\n",
       "      <td>사실형-긍정-현재-확실</td>\n",
       "    </tr>\n",
       "    <tr>\n",
       "      <th>1</th>\n",
       "      <td>TRAIN_00001</td>\n",
       "      <td>이어 ＂앞으로 전문가들과 함께 4주 단위로 상황을 재평가할 예정＂이라며 ＂그 이전이...</td>\n",
       "      <td>사실형</td>\n",
       "      <td>긍정</td>\n",
       "      <td>과거</td>\n",
       "      <td>확실</td>\n",
       "      <td>사실형-긍정-과거-확실</td>\n",
       "    </tr>\n",
       "    <tr>\n",
       "      <th>2</th>\n",
       "      <td>TRAIN_00002</td>\n",
       "      <td>정부가 고유가 대응을 위해 7월부터 연말까지 유류세 인하 폭을 30%에서 37%까지...</td>\n",
       "      <td>사실형</td>\n",
       "      <td>긍정</td>\n",
       "      <td>미래</td>\n",
       "      <td>확실</td>\n",
       "      <td>사실형-긍정-미래-확실</td>\n",
       "    </tr>\n",
       "    <tr>\n",
       "      <th>3</th>\n",
       "      <td>TRAIN_00003</td>\n",
       "      <td>서울시는 올해 3월 즉시 견인 유예시간 60분을 제공하겠다고 밝혔지만, 하루 만에 ...</td>\n",
       "      <td>사실형</td>\n",
       "      <td>긍정</td>\n",
       "      <td>과거</td>\n",
       "      <td>확실</td>\n",
       "      <td>사실형-긍정-과거-확실</td>\n",
       "    </tr>\n",
       "    <tr>\n",
       "      <th>4</th>\n",
       "      <td>TRAIN_00004</td>\n",
       "      <td>익사한 자는 사다리에 태워 거꾸로 놓고 소금으로 코를 막아 가득 채운다.</td>\n",
       "      <td>사실형</td>\n",
       "      <td>긍정</td>\n",
       "      <td>현재</td>\n",
       "      <td>확실</td>\n",
       "      <td>사실형-긍정-현재-확실</td>\n",
       "    </tr>\n",
       "  </tbody>\n",
       "</table>\n",
       "</div>"
      ],
      "text/plain": [
       "            ID                                                 문장   유형  극성  \\\n",
       "0  TRAIN_00000              0.75%포인트 금리 인상은 1994년 이후 28년 만에 처음이다.  사실형  긍정   \n",
       "1  TRAIN_00001  이어 ＂앞으로 전문가들과 함께 4주 단위로 상황을 재평가할 예정＂이라며 ＂그 이전이...  사실형  긍정   \n",
       "2  TRAIN_00002  정부가 고유가 대응을 위해 7월부터 연말까지 유류세 인하 폭을 30%에서 37%까지...  사실형  긍정   \n",
       "3  TRAIN_00003  서울시는 올해 3월 즉시 견인 유예시간 60분을 제공하겠다고 밝혔지만, 하루 만에 ...  사실형  긍정   \n",
       "4  TRAIN_00004           익사한 자는 사다리에 태워 거꾸로 놓고 소금으로 코를 막아 가득 채운다.  사실형  긍정   \n",
       "\n",
       "   시제 확실성         label  \n",
       "0  현재  확실  사실형-긍정-현재-확실  \n",
       "1  과거  확실  사실형-긍정-과거-확실  \n",
       "2  미래  확실  사실형-긍정-미래-확실  \n",
       "3  과거  확실  사실형-긍정-과거-확실  \n",
       "4  현재  확실  사실형-긍정-현재-확실  "
      ]
     },
     "execution_count": 6,
     "metadata": {},
     "output_type": "execute_result"
    }
   ],
   "source": [
    "train1.head()"
   ]
  },
  {
   "cell_type": "code",
   "execution_count": 7,
   "metadata": {},
   "outputs": [
    {
     "data": {
      "text/plain": [
       "(32511, 32449)"
      ]
     },
     "execution_count": 7,
     "metadata": {},
     "output_type": "execute_result"
    }
   ],
   "source": [
    "len(train1), len(train1['문장'].drop_duplicates()) # 중복문장 존재"
   ]
  },
  {
   "cell_type": "code",
   "execution_count": 8,
   "metadata": {},
   "outputs": [
    {
     "data": {
      "text/plain": [
       "((32449, 7), (42787, 7))"
      ]
     },
     "execution_count": 8,
     "metadata": {},
     "output_type": "execute_result"
    }
   ],
   "source": [
    "train1 = train1.drop_duplicates(subset='문장')\n",
    "train2 = train2.drop_duplicates(subset='문장')\n",
    "\n",
    "train1.shape, train2.shape"
   ]
  },
  {
   "cell_type": "code",
   "execution_count": 9,
   "metadata": {},
   "outputs": [
    {
     "data": {
      "text/plain": [
       "(4, 3, 3, 2)"
      ]
     },
     "execution_count": 9,
     "metadata": {},
     "output_type": "execute_result"
    }
   ],
   "source": [
    "train1['유형'].nunique(), train1['극성'].nunique(), train1['시제'].nunique(), train1['확실성'].nunique()"
   ]
  },
  {
   "cell_type": "markdown",
   "metadata": {
    "id": "LPTt9dvEV24N"
   },
   "source": [
    "### 3. 허깅페이스 트랜스포머 설치"
   ]
  },
  {
   "cell_type": "code",
   "execution_count": 10,
   "metadata": {
    "colab": {
     "base_uri": "https://localhost:8080/"
    },
    "id": "VLnzEFwpV24N",
    "outputId": "f5a835b2-36ce-48f1-a21d-c87ae8b46b57"
   },
   "outputs": [],
   "source": [
    "# !pip install -q transformers==4.5.1"
   ]
  },
  {
   "cell_type": "code",
   "execution_count": 11,
   "metadata": {},
   "outputs": [
    {
     "name": "stdout",
     "output_type": "stream",
     "text": [
      "4.5.1\n"
     ]
    }
   ],
   "source": [
    "import transformers\n",
    "print(transformers.__version__)"
   ]
  },
  {
   "cell_type": "markdown",
   "metadata": {
    "id": "fi0povr9V24Q"
   },
   "source": [
    "### 4. EDA"
   ]
  },
  {
   "cell_type": "code",
   "execution_count": 12,
   "metadata": {
    "id": "HSmq2CXPV24Q"
   },
   "outputs": [],
   "source": [
    "import matplotlib.pyplot as plt"
   ]
  },
  {
   "cell_type": "code",
   "execution_count": 13,
   "metadata": {
    "id": "fH3TQ5NMV24Q"
   },
   "outputs": [
    {
     "data": {
      "text/plain": [
       "(1, 534, 69.21677093284848)"
      ]
     },
     "execution_count": 13,
     "metadata": {},
     "output_type": "execute_result"
    }
   ],
   "source": [
    "texts_len = [len(x) for x in train1['문장']]\n",
    "min(texts_len), max(texts_len), np.mean(texts_len)"
   ]
  },
  {
   "cell_type": "markdown",
   "metadata": {
    "id": "oAc-sXb-V24R"
   },
   "source": [
    "**4.1 문장의 길이의 히스토그램**"
   ]
  },
  {
   "cell_type": "code",
   "execution_count": 14,
   "metadata": {
    "colab": {
     "base_uri": "https://localhost:8080/",
     "height": 524
    },
    "id": "WB6JL7UOV24R",
    "outputId": "dab3fbfb-75aa-44a1-9dec-e79a5b072236"
   },
   "outputs": [
    {
     "data": {
      "text/plain": [
       "Text(0, 0.5, 'Probability')"
      ]
     },
     "execution_count": 14,
     "metadata": {},
     "output_type": "execute_result"
    },
    {
     "data": {
      "image/png": "[encoded data removed]",
      "text/plain": [
       "<Figure size 1152x720 with 1 Axes>"
      ]
     },
     "metadata": {
      "needs_background": "light"
     },
     "output_type": "display_data"
    }
   ],
   "source": [
    "plt.figure(figsize=(16, 10))\n",
    "plt.hist(texts_len, bins=50, range=[0, 600], facecolor='b', density=True, label='Text Length')\n",
    "plt.title('Text Length Histogram')\n",
    "plt.legend()\n",
    "plt.xlabel('Number of Words')\n",
    "plt.ylabel('Probability')"
   ]
  },
  {
   "cell_type": "markdown",
   "metadata": {
    "id": "qs6KylwBV24S"
   },
   "source": [
    "**4.2 각 태그별 데이터에 포함된 갯수**"
   ]
  },
  {
   "cell_type": "code",
   "execution_count": 15,
   "metadata": {},
   "outputs": [
    {
     "data": {
      "text/plain": [
       "사실형    13530\n",
       "추론형    10733\n",
       "대화형     4592\n",
       "예측형     3594\n",
       "Name: 유형, dtype: int64"
      ]
     },
     "execution_count": 15,
     "metadata": {},
     "output_type": "execute_result"
    }
   ],
   "source": [
    "train1['유형'].value_counts()"
   ]
  },
  {
   "cell_type": "code",
   "execution_count": 16,
   "metadata": {},
   "outputs": [
    {
     "data": {
      "text/plain": [
       "긍정    27394\n",
       "부정     8415\n",
       "미정     6978\n",
       "Name: 극성, dtype: int64"
      ]
     },
     "execution_count": 16,
     "metadata": {},
     "output_type": "execute_result"
    }
   ],
   "source": [
    "train2['극성'].value_counts()"
   ]
  },
  {
   "cell_type": "code",
   "execution_count": 17,
   "metadata": {},
   "outputs": [
    {
     "data": {
      "text/plain": [
       "현재    14957\n",
       "과거    10967\n",
       "미래     6525\n",
       "Name: 시제, dtype: int64"
      ]
     },
     "execution_count": 17,
     "metadata": {},
     "output_type": "execute_result"
    }
   ],
   "source": [
    "train1['시제'].value_counts()"
   ]
  },
  {
   "cell_type": "code",
   "execution_count": 18,
   "metadata": {},
   "outputs": [
    {
     "data": {
      "text/plain": [
       "확실     23493\n",
       "불확실    19294\n",
       "Name: 확실성, dtype: int64"
      ]
     },
     "execution_count": 18,
     "metadata": {},
     "output_type": "execute_result"
    }
   ],
   "source": [
    "train2['확실성'].value_counts()"
   ]
  },
  {
   "cell_type": "markdown",
   "metadata": {},
   "source": [
    "### 5. Text Augmentation"
   ]
  },
  {
   "cell_type": "markdown",
   "metadata": {},
   "source": [
    "#### Back Translation"
   ]
  },
  {
   "cell_type": "code",
   "execution_count": 19,
   "metadata": {},
   "outputs": [],
   "source": [
    "# !pip install -q ktextaug==0.1.9\n",
    "# !pip uninstall -q jpype1 -y\n",
    "# !pip install -q jpype1==1.0.2"
   ]
  },
  {
   "cell_type": "code",
   "execution_count": 20,
   "metadata": {},
   "outputs": [],
   "source": [
    "# import ktextaug\n",
    "# print(ktextaug.__version__)"
   ]
  },
  {
   "cell_type": "code",
   "execution_count": 21,
   "metadata": {},
   "outputs": [],
   "source": [
    "# from transformers import AutoModel, AutoTokenizer\n",
    "# MODEL_NAME = \"monologg/koelectra-base-v3-discriminator\"\n",
    "# tokenizer_aug = AutoTokenizer.from_pretrained(MODEL_NAME)"
   ]
  },
  {
   "cell_type": "code",
   "execution_count": 22,
   "metadata": {},
   "outputs": [],
   "source": [
    "# ### Back translation\n",
    "# from ktextaug import TextAugmentation\n",
    "\n",
    "# agent = TextAugmentation(tokenizer=tokenizer_aug, num_processes=-1)"
   ]
  },
  {
   "cell_type": "code",
   "execution_count": 23,
   "metadata": {},
   "outputs": [],
   "source": [
    "# # 유형 : 추론\n",
    "# df1 = train.query(\"유형 == '추론형'\").reset_index(drop=True)\n",
    "# df1['back_translate'] = agent.generate(df1['문장'].tolist())\n",
    "\n",
    "# # 유형 : 대화\n",
    "# df2 = train.query(\"유형 == '대화형'\").reset_index(drop=True)\n",
    "# df2['back_translate'] = agent.generate(df2['문장'].tolist())\n",
    "\n",
    "# # 유형 : 예측\n",
    "# df3 = train.query(\"유형 == '예측형'\").reset_index(drop=True)\n",
    "# df3['back_translate'] = agent.generate(df3['문장'].tolist())"
   ]
  },
  {
   "cell_type": "code",
   "execution_count": 24,
   "metadata": {},
   "outputs": [],
   "source": [
    "# # 극성 : 부정\n",
    "# df1 = train.query(\"극성 == '부정'\").reset_index(drop=True)\n",
    "# df1['back_translate'] = agent.generate(df1['문장'].tolist())\n",
    "\n",
    "# # 극성 : 미정\n",
    "# df2 = train.query(\"극성 == '미정'\").reset_index(drop=True)\n",
    "# df2['back_translate'] = agent.generate(df2['문장'].tolist())\n",
    "\n",
    "# # 확실성 : 불확실\n",
    "# df3 = train.query(\"확실성 == '불확실'\").reset_index(drop=True)\n",
    "# df3['back_translate'] = agent.generate(df3['문장'].tolist())"
   ]
  },
  {
   "cell_type": "code",
   "execution_count": 25,
   "metadata": {},
   "outputs": [],
   "source": [
    "# df1 = df1[['ID', 'back_translate', '유형', '극성', '시제', '확실성', 'label']]\n",
    "# df1.columns = ['ID', '문장', '유형', '극성', '시제', '확실성', 'label']\n",
    "\n",
    "# df2 = df2[['ID', 'back_translate', '유형', '극성', '시제', '확실성', 'label']]\n",
    "# df2.columns = ['ID', '문장', '유형', '극성', '시제', '확실성', 'label']\n",
    "\n",
    "# df3 = df3[['ID', 'back_translate', '유형', '극성', '시제', '확실성', 'label']]\n",
    "# df3.columns = ['ID', '문장', '유형', '극성', '시제', '확실성', 'label']"
   ]
  },
  {
   "cell_type": "code",
   "execution_count": 26,
   "metadata": {},
   "outputs": [],
   "source": [
    "# df1.shape, df2.shape, df3.shape"
   ]
  },
  {
   "cell_type": "markdown",
   "metadata": {},
   "source": [
    "#### Context Word Embedding Augmentation"
   ]
  },
  {
   "cell_type": "code",
   "execution_count": 27,
   "metadata": {},
   "outputs": [],
   "source": [
    "# !pip install -q googletrans==4.0.0-rc1\n",
    "# !pip install -q nlpaug"
   ]
  },
  {
   "cell_type": "code",
   "execution_count": 28,
   "metadata": {},
   "outputs": [],
   "source": [
    "# import nlpaug.augmenter.char as nac\n",
    "# import nlpaug.augmenter.word as naw\n",
    "# import nlpaug.augmenter.sentence as nas\n",
    "# import nlpaug.flow as nafc\n",
    "\n",
    "# from nlpaug.util import Action"
   ]
  },
  {
   "cell_type": "code",
   "execution_count": 29,
   "metadata": {},
   "outputs": [],
   "source": [
    "# import googletrans\n",
    "\n",
    "# translator = googletrans.Translator()\n",
    "# translator.raise_Exception = True\n",
    "\n",
    "# def translation(x, dest):\n",
    "#     try:\n",
    "#         output = translator.translate(x, dest=dest, src='auto')\n",
    "#     except:\n",
    "#         translator = googletrans.Translator()\n",
    "#         translator.raise_Exception = True\n",
    "#         output = translator.translate(x, dest=dest, src='auto')\n",
    "        \n",
    "#     return output.text"
   ]
  },
  {
   "cell_type": "code",
   "execution_count": 30,
   "metadata": {},
   "outputs": [],
   "source": [
    "# df1['translated'] = df1['문장'].apply(lambda x : translation(x, dest='en'))\n",
    "# df2['translated'] = df2['문장'].apply(lambda x : translation(x, dest='en'))\n",
    "# df3['translated'] = df3['문장'].apply(lambda x : translation(x, dest='en'))"
   ]
  },
  {
   "cell_type": "code",
   "execution_count": 31,
   "metadata": {},
   "outputs": [],
   "source": [
    "# TOPK = 20 #default=100\n",
    "# ACT = 'insert' #\"substitute\"\n",
    "\n",
    "# aug_bert = naw.ContextualWordEmbsAug(\n",
    "#     model_path='bert-base-uncased',\n",
    "#     device='cuda',\n",
    "#     action=ACT, top_k=TOPK)"
   ]
  },
  {
   "cell_type": "code",
   "execution_count": 32,
   "metadata": {},
   "outputs": [],
   "source": [
    "# df1 = pd.read_csv('data/유형추론_aug.csv')\n",
    "# df2 = pd.read_csv('data/유형대화_aug.csv')\n",
    "# df3 = pd.read_csv('data/유형예측_aug.csv')\n",
    "\n",
    "# df1.shape, df2.shape, df3.shape"
   ]
  },
  {
   "cell_type": "code",
   "execution_count": 33,
   "metadata": {},
   "outputs": [],
   "source": [
    "# df1['translation_aug1'] = df1['translated'].apply(lambda x : aug_bert.augment(x, n=3)[0])\n",
    "# df1['translation_aug2'] = df1['translated'].apply(lambda x : aug_bert.augment(x, n=3)[1])\n",
    "# df1['translation_aug3'] = df1['translated'].apply(lambda x : aug_bert.augment(x, n=3)[2])\n",
    "\n",
    "# df1['translation_aug4'] = df1['translation_aug1'].apply(lambda x : aug_bert.augment(x, n=3)[0])\n",
    "# df1['translation_aug5'] = df1['translation_aug1'].apply(lambda x : aug_bert.augment(x, n=3)[1])\n",
    "# df1['translation_aug6'] = df1['translation_aug1'].apply(lambda x : aug_bert.augment(x, n=3)[2])\n",
    "\n",
    "# df1['translation_aug7'] = df1['translation_aug2'].apply(lambda x : aug_bert.augment(x, n=3)[0])\n",
    "# df1['translation_aug8'] = df1['translation_aug2'].apply(lambda x : aug_bert.augment(x, n=3)[1])\n",
    "# df1['translation_aug9'] = df1['translation_aug2'].apply(lambda x : aug_bert.augment(x, n=3)[2])\n",
    "\n",
    "# df1['translation_aug10'] = df1['translation_aug3'].apply(lambda x : aug_bert.augment(x, n=3)[0])\n",
    "# df1['translation_aug11'] = df1['translation_aug3'].apply(lambda x : aug_bert.augment(x, n=3)[1])\n",
    "# df1['translation_aug12'] = df1['translation_aug3'].apply(lambda x : aug_bert.augment(x, n=3)[2])\n",
    "\n",
    "\n",
    "# df1['contextual_emb_aug1'] = df1['translation_aug1'].apply(lambda x : translation(x, dest='ko'))\n",
    "# df1['contextual_emb_aug2'] = df1['translation_aug2'].apply(lambda x : translation(x, dest='ko'))\n",
    "# df1['contextual_emb_aug3'] = df1['translation_aug3'].apply(lambda x : translation(x, dest='ko'))\n",
    "# df1['contextual_emb_aug4'] = df1['translation_aug4'].apply(lambda x : translation(x, dest='ko'))\n",
    "# df1['contextual_emb_aug5'] = df1['translation_aug5'].apply(lambda x : translation(x, dest='ko'))\n",
    "# df1['contextual_emb_aug6'] = df1['translation_aug6'].apply(lambda x : translation(x, dest='ko'))\n",
    "# df1['contextual_emb_aug7'] = df1['translation_aug7'].apply(lambda x : translation(x, dest='ko'))\n",
    "# df1['contextual_emb_aug8'] = df1['translation_aug8'].apply(lambda x : translation(x, dest='ko'))\n",
    "# df1['contextual_emb_aug9'] = df1['translation_aug9'].apply(lambda x : translation(x, dest='ko'))\n",
    "# df1['contextual_emb_aug10'] = df1['translation_aug10'].apply(lambda x : translation(x, dest='ko'))\n",
    "# df1['contextual_emb_aug11'] = df1['translation_aug11'].apply(lambda x : translation(x, dest='ko'))\n",
    "# df1['contextual_emb_aug12'] = df1['translation_aug12'].apply(lambda x : translation(x, dest='ko'))"
   ]
  },
  {
   "cell_type": "code",
   "execution_count": 34,
   "metadata": {},
   "outputs": [],
   "source": [
    "# df2['translation_aug1'] = df2['translated'].apply(lambda x : aug_bert.augment(x, n=5)[0])\n",
    "# df2['translation_aug2'] = df2['translated'].apply(lambda x : aug_bert.augment(x, n=5)[1])\n",
    "# df2['translation_aug3'] = df2['translated'].apply(lambda x : aug_bert.augment(x, n=5)[2])\n",
    "# df2['translation_aug4'] = df2['translated'].apply(lambda x : aug_bert.augment(x, n=5)[3])\n",
    "# df2['translation_aug5'] = df2['translated'].apply(lambda x : aug_bert.augment(x, n=5)[4])\n",
    "\n",
    "# df2['translation_aug6'] = df2['translation_aug1'].apply(lambda x : aug_bert.augment(x, n=5)[0])\n",
    "# df2['translation_aug7'] = df2['translation_aug1'].apply(lambda x : aug_bert.augment(x, n=5)[1])\n",
    "# df2['translation_aug8'] = df2['translation_aug1'].apply(lambda x : aug_bert.augment(x, n=5)[2])\n",
    "# df2['translation_aug9'] = df2['translation_aug1'].apply(lambda x : aug_bert.augment(x, n=5)[3])\n",
    "# df2['translation_aug10'] = df2['translation_aug1'].apply(lambda x : aug_bert.augment(x, n=5)[4])\n",
    "\n",
    "# df2['translation_aug11'] = df2['translation_aug2'].apply(lambda x : aug_bert.augment(x, n=5)[0])\n",
    "# df2['translation_aug12'] = df2['translation_aug2'].apply(lambda x : aug_bert.augment(x, n=5)[1])\n",
    "# df2['translation_aug13'] = df2['translation_aug2'].apply(lambda x : aug_bert.augment(x, n=5)[2])\n",
    "# df2['translation_aug14'] = df2['translation_aug2'].apply(lambda x : aug_bert.augment(x, n=5)[3])\n",
    "# df2['translation_aug15'] = df2['translation_aug2'].apply(lambda x : aug_bert.augment(x, n=5)[4])\n",
    "\n",
    "# df2['translation_aug16'] = df2['translation_aug3'].apply(lambda x : aug_bert.augment(x, n=5)[0])\n",
    "# df2['translation_aug17'] = df2['translation_aug3'].apply(lambda x : aug_bert.augment(x, n=5)[1])\n",
    "# df2['translation_aug18'] = df2['translation_aug3'].apply(lambda x : aug_bert.augment(x, n=5)[2])\n",
    "# df2['translation_aug19'] = df2['translation_aug3'].apply(lambda x : aug_bert.augment(x, n=5)[3])\n",
    "# df2['translation_aug20'] = df2['translation_aug3'].apply(lambda x : aug_bert.augment(x, n=5)[4])\n",
    "\n",
    "# df2['translation_aug21'] = df2['translation_aug4'].apply(lambda x : aug_bert.augment(x, n=5)[0])\n",
    "# df2['translation_aug22'] = df2['translation_aug4'].apply(lambda x : aug_bert.augment(x, n=5)[1])\n",
    "# df2['translation_aug23'] = df2['translation_aug4'].apply(lambda x : aug_bert.augment(x, n=5)[2])\n",
    "# df2['translation_aug24'] = df2['translation_aug4'].apply(lambda x : aug_bert.augment(x, n=5)[3])\n",
    "# df2['translation_aug25'] = df2['translation_aug4'].apply(lambda x : aug_bert.augment(x, n=5)[4])\n",
    "\n",
    "# df2['translation_aug26'] = df2['translation_aug5'].apply(lambda x : aug_bert.augment(x, n=5)[0])\n",
    "# df2['translation_aug27'] = df2['translation_aug5'].apply(lambda x : aug_bert.augment(x, n=5)[1])\n",
    "# df2['translation_aug28'] = df2['translation_aug5'].apply(lambda x : aug_bert.augment(x, n=5)[2])\n",
    "# df2['translation_aug29'] = df2['translation_aug5'].apply(lambda x : aug_bert.augment(x, n=5)[3])\n",
    "# df2['translation_aug30'] = df2['translation_aug5'].apply(lambda x : aug_bert.augment(x, n=5)[4])\n",
    "\n",
    "\n",
    "# df2['contextual_emb_aug1'] = df2['translation_aug1'].apply(lambda x : translation(x, dest='ko'))\n",
    "# df2['contextual_emb_aug2'] = df2['translation_aug2'].apply(lambda x : translation(x, dest='ko'))\n",
    "# df2['contextual_emb_aug3'] = df2['translation_aug3'].apply(lambda x : translation(x, dest='ko'))\n",
    "# df2['contextual_emb_aug4'] = df2['translation_aug4'].apply(lambda x : translation(x, dest='ko'))\n",
    "# df2['contextual_emb_aug5'] = df2['translation_aug5'].apply(lambda x : translation(x, dest='ko'))\n",
    "# df2['contextual_emb_aug6'] = df2['translation_aug6'].apply(lambda x : translation(x, dest='ko'))\n",
    "# df2['contextual_emb_aug7'] = df2['translation_aug7'].apply(lambda x : translation(x, dest='ko'))\n",
    "# df2['contextual_emb_aug8'] = df2['translation_aug8'].apply(lambda x : translation(x, dest='ko'))\n",
    "# df2['contextual_emb_aug9'] = df2['translation_aug9'].apply(lambda x : translation(x, dest='ko'))\n",
    "# df2['contextual_emb_aug10'] = df2['translation_aug10'].apply(lambda x : translation(x, dest='ko'))\n",
    "# df2['contextual_emb_aug11'] = df2['translation_aug11'].apply(lambda x : translation(x, dest='ko'))\n",
    "# df2['contextual_emb_aug12'] = df2['translation_aug12'].apply(lambda x : translation(x, dest='ko'))\n",
    "# df2['contextual_emb_aug13'] = df2['translation_aug13'].apply(lambda x : translation(x, dest='ko'))\n",
    "# df2['contextual_emb_aug14'] = df2['translation_aug14'].apply(lambda x : translation(x, dest='ko'))\n",
    "# df2['contextual_emb_aug15'] = df2['translation_aug15'].apply(lambda x : translation(x, dest='ko'))\n",
    "# df2['contextual_emb_aug16'] = df2['translation_aug16'].apply(lambda x : translation(x, dest='ko'))\n",
    "# df2['contextual_emb_aug17'] = df2['translation_aug17'].apply(lambda x : translation(x, dest='ko'))\n",
    "# df2['contextual_emb_aug18'] = df2['translation_aug18'].apply(lambda x : translation(x, dest='ko'))\n",
    "# df2['contextual_emb_aug19'] = df2['translation_aug19'].apply(lambda x : translation(x, dest='ko'))\n",
    "# df2['contextual_emb_aug20'] = df2['translation_aug20'].apply(lambda x : translation(x, dest='ko'))\n",
    "# df2['contextual_emb_aug21'] = df2['translation_aug21'].apply(lambda x : translation(x, dest='ko'))\n",
    "# df2['contextual_emb_aug22'] = df2['translation_aug22'].apply(lambda x : translation(x, dest='ko'))\n",
    "# df2['contextual_emb_aug23'] = df2['translation_aug23'].apply(lambda x : translation(x, dest='ko'))\n",
    "# df2['contextual_emb_aug24'] = df2['translation_aug24'].apply(lambda x : translation(x, dest='ko'))\n",
    "# df2['contextual_emb_aug25'] = df2['translation_aug25'].apply(lambda x : translation(x, dest='ko'))\n",
    "# df2['contextual_emb_aug26'] = df2['translation_aug26'].apply(lambda x : translation(x, dest='ko'))\n",
    "# df2['contextual_emb_aug27'] = df2['translation_aug27'].apply(lambda x : translation(x, dest='ko'))\n",
    "# df2['contextual_emb_aug28'] = df2['translation_aug28'].apply(lambda x : translation(x, dest='ko'))\n",
    "# df2['contextual_emb_aug29'] = df2['translation_aug29'].apply(lambda x : translation(x, dest='ko'))\n",
    "# df2['contextual_emb_aug30'] = df2['translation_aug30'].apply(lambda x : translation(x, dest='ko'))"
   ]
  },
  {
   "cell_type": "code",
   "execution_count": 35,
   "metadata": {},
   "outputs": [],
   "source": [
    "# df3['translation_aug1'] = df3['translated'].apply(lambda x : aug_bert.augment(x, n=3)[0])\n",
    "# df3['translation_aug2'] = df3['translated'].apply(lambda x : aug_bert.augment(x, n=3)[1])\n",
    "# df3['translation_aug3'] = df3['translated'].apply(lambda x : aug_bert.augment(x, n=3)[2])\n",
    "\n",
    "# df3['translation_aug4'] = df3['translation_aug1'].apply(lambda x : aug_bert.augment(x, n=3)[0])\n",
    "# df3['translation_aug5'] = df3['translation_aug1'].apply(lambda x : aug_bert.augment(x, n=3)[1])\n",
    "# df3['translation_aug6'] = df3['translation_aug1'].apply(lambda x : aug_bert.augment(x, n=3)[2])\n",
    "\n",
    "# df3['translation_aug7'] = df3['translation_aug2'].apply(lambda x : aug_bert.augment(x, n=3)[0])\n",
    "# df3['translation_aug8'] = df3['translation_aug2'].apply(lambda x : aug_bert.augment(x, n=3)[1])\n",
    "# df3['translation_aug9'] = df3['translation_aug2'].apply(lambda x : aug_bert.augment(x, n=3)[2])\n",
    "\n",
    "\n",
    "# df3['contextual_emb_aug1'] = df3['translation_aug1'].apply(lambda x : translation(x, dest='ko'))\n",
    "# df3['contextual_emb_aug2'] = df3['translation_aug2'].apply(lambda x : translation(x, dest='ko'))\n",
    "# df3['contextual_emb_aug3'] = df3['translation_aug3'].apply(lambda x : translation(x, dest='ko'))\n",
    "# df3['contextual_emb_aug4'] = df3['translation_aug4'].apply(lambda x : translation(x, dest='ko'))\n",
    "# df3['contextual_emb_aug5'] = df3['translation_aug5'].apply(lambda x : translation(x, dest='ko'))\n",
    "# df3['contextual_emb_aug6'] = df3['translation_aug6'].apply(lambda x : translation(x, dest='ko'))\n",
    "# df3['contextual_emb_aug7'] = df3['translation_aug7'].apply(lambda x : translation(x, dest='ko'))\n",
    "# df3['contextual_emb_aug8'] = df3['translation_aug8'].apply(lambda x : translation(x, dest='ko'))\n",
    "# df3['contextual_emb_aug9'] = df3['translation_aug9'].apply(lambda x : translation(x, dest='ko'))"
   ]
  },
  {
   "cell_type": "code",
   "execution_count": 36,
   "metadata": {},
   "outputs": [],
   "source": [
    "# df1.to_csv('data/유형추론_aug.csv', index=False)\n",
    "# df2.to_csv('data/유형대화_aug.csv', index=False)\n",
    "# df3.to_csv('data/유형예측_aug.csv', index=False)"
   ]
  },
  {
   "cell_type": "code",
   "execution_count": 37,
   "metadata": {},
   "outputs": [],
   "source": [
    "# df1 = pd.read_csv('data/유형추론_aug.csv')\n",
    "# df2 = pd.read_csv('data/유형대화_aug.csv')\n",
    "# df3 = pd.read_csv('data/유형예측_aug.csv')\n",
    "\n",
    "# df1.shape, df2.shape, df3.shape"
   ]
  },
  {
   "cell_type": "code",
   "execution_count": 38,
   "metadata": {},
   "outputs": [],
   "source": [
    "# df11 = df1[['ID', 'back_translate', '유형', '극성', '시제', '확실성', 'label']]\n",
    "# df12 = df1[['ID', 'contextual_emb_aug1', '유형', '극성', '시제', '확실성', 'label']]\n",
    "# df13 = df1[['ID', 'contextual_emb_aug2', '유형', '극성', '시제', '확실성', 'label']]\n",
    "# df14 = df1[['ID', 'contextual_emb_aug3', '유형', '극성', '시제', '확실성', 'label']]\n",
    "# df15 = df1[['ID', 'contextual_emb_aug4', '유형', '극성', '시제', '확실성', 'label']]\n",
    "# df16 = df1[['ID', 'contextual_emb_aug5', '유형', '극성', '시제', '확실성', 'label']]\n",
    "# df17 = df1[['ID', 'contextual_emb_aug6', '유형', '극성', '시제', '확실성', 'label']]\n",
    "# df18 = df1[['ID', 'contextual_emb_aug7', '유형', '극성', '시제', '확실성', 'label']]\n",
    "# df19 = df1[['ID', 'contextual_emb_aug8', '유형', '극성', '시제', '확실성', 'label']]\n",
    "# df110 = df1[['ID', 'contextual_emb_aug9', '유형', '극성', '시제', '확실성', 'label']]\n",
    "# df111 = df1[['ID', 'contextual_emb_aug10', '유형', '극성', '시제', '확실성', 'label']]\n",
    "# df112 = df1[['ID', 'contextual_emb_aug11', '유형', '극성', '시제', '확실성', 'label']]\n",
    "# df113 = df1[['ID', 'contextual_emb_aug12', '유형', '극성', '시제', '확실성', 'label']]\n",
    "\n",
    "# df21 = df2[['ID', 'back_translate', '유형', '극성', '시제', '확실성', 'label']]\n",
    "# df22 = df2[['ID', 'contextual_emb_aug1', '유형', '극성', '시제', '확실성', 'label']]\n",
    "# df23 = df2[['ID', 'contextual_emb_aug2', '유형', '극성', '시제', '확실성', 'label']]\n",
    "# df24 = df2[['ID', 'contextual_emb_aug3', '유형', '극성', '시제', '확실성', 'label']]\n",
    "# df25 = df2[['ID', 'contextual_emb_aug4', '유형', '극성', '시제', '확실성', 'label']]\n",
    "# df26 = df2[['ID', 'contextual_emb_aug5', '유형', '극성', '시제', '확실성', 'label']]\n",
    "# df27 = df2[['ID', 'contextual_emb_aug6', '유형', '극성', '시제', '확실성', 'label']]\n",
    "# df28 = df2[['ID', 'contextual_emb_aug7', '유형', '극성', '시제', '확실성', 'label']]\n",
    "# df29 = df2[['ID', 'contextual_emb_aug8', '유형', '극성', '시제', '확실성', 'label']]\n",
    "# df210 = df2[['ID', 'contextual_emb_aug9', '유형', '극성', '시제', '확실성', 'label']]\n",
    "# df211 = df2[['ID', 'contextual_emb_aug10', '유형', '극성', '시제', '확실성', 'label']]\n",
    "# df212 = df2[['ID', 'contextual_emb_aug11', '유형', '극성', '시제', '확실성', 'label']]\n",
    "# df213 = df2[['ID', 'contextual_emb_aug12', '유형', '극성', '시제', '확실성', 'label']]\n",
    "# df214 = df2[['ID', 'contextual_emb_aug13', '유형', '극성', '시제', '확실성', 'label']]\n",
    "# df215 = df2[['ID', 'contextual_emb_aug14', '유형', '극성', '시제', '확실성', 'label']]\n",
    "# df216 = df2[['ID', 'contextual_emb_aug15', '유형', '극성', '시제', '확실성', 'label']]\n",
    "# df217 = df2[['ID', 'contextual_emb_aug16', '유형', '극성', '시제', '확실성', 'label']]\n",
    "# df218 = df2[['ID', 'contextual_emb_aug17', '유형', '극성', '시제', '확실성', 'label']]\n",
    "# df219 = df2[['ID', 'contextual_emb_aug18', '유형', '극성', '시제', '확실성', 'label']]\n",
    "# df220 = df2[['ID', 'contextual_emb_aug19', '유형', '극성', '시제', '확실성', 'label']]\n",
    "# df221 = df2[['ID', 'contextual_emb_aug20', '유형', '극성', '시제', '확실성', 'label']]\n",
    "# df222 = df2[['ID', 'contextual_emb_aug21', '유형', '극성', '시제', '확실성', 'label']]\n",
    "# df223 = df2[['ID', 'contextual_emb_aug22', '유형', '극성', '시제', '확실성', 'label']]\n",
    "# df224 = df2[['ID', 'contextual_emb_aug23', '유형', '극성', '시제', '확실성', 'label']]\n",
    "# df225 = df2[['ID', 'contextual_emb_aug24', '유형', '극성', '시제', '확실성', 'label']]\n",
    "# df226 = df2[['ID', 'contextual_emb_aug25', '유형', '극성', '시제', '확실성', 'label']]\n",
    "# df227 = df2[['ID', 'contextual_emb_aug26', '유형', '극성', '시제', '확실성', 'label']]\n",
    "# df228 = df2[['ID', 'contextual_emb_aug27', '유형', '극성', '시제', '확실성', 'label']]\n",
    "# df229 = df2[['ID', 'contextual_emb_aug28', '유형', '극성', '시제', '확실성', 'label']]\n",
    "# df230 = df2[['ID', 'contextual_emb_aug29', '유형', '극성', '시제', '확실성', 'label']]\n",
    "# df231 = df2[['ID', 'contextual_emb_aug30', '유형', '극성', '시제', '확실성', 'label']]\n",
    "\n",
    "# df31 = df3[['ID', 'back_translate', '유형', '극성', '시제', '확실성', 'label']]\n",
    "# df32 = df3[['ID', 'contextual_emb_aug1', '유형', '극성', '시제', '확실성', 'label']]\n",
    "# df33 = df3[['ID', 'contextual_emb_aug2', '유형', '극성', '시제', '확실성', 'label']]\n",
    "# df34 = df3[['ID', 'contextual_emb_aug3', '유형', '극성', '시제', '확실성', 'label']]\n",
    "# df35 = df3[['ID', 'contextual_emb_aug4', '유형', '극성', '시제', '확실성', 'label']]\n",
    "# df36 = df3[['ID', 'contextual_emb_aug5', '유형', '극성', '시제', '확실성', 'label']]\n",
    "# df37 = df3[['ID', 'contextual_emb_aug6', '유형', '극성', '시제', '확실성', 'label']]\n",
    "# df38 = df3[['ID', 'contextual_emb_aug7', '유형', '극성', '시제', '확실성', 'label']]\n",
    "# df39 = df3[['ID', 'contextual_emb_aug8', '유형', '극성', '시제', '확실성', 'label']]\n",
    "# df310 = df3[['ID', 'contextual_emb_aug9', '유형', '극성', '시제', '확실성', 'label']]"
   ]
  },
  {
   "cell_type": "code",
   "execution_count": 39,
   "metadata": {},
   "outputs": [],
   "source": [
    "# df11.columns = train.columns\n",
    "# df12.columns = train.columns\n",
    "# df13.columns = train.columns\n",
    "# df14.columns = train.columns\n",
    "# df15.columns = train.columns\n",
    "# df16.columns = train.columns\n",
    "# df17.columns = train.columns\n",
    "# df18.columns = train.columns\n",
    "# df19.columns = train.columns\n",
    "# df110.columns = train.columns\n",
    "# df111.columns = train.columns\n",
    "# df112.columns = train.columns\n",
    "# df113.columns = train.columns\n",
    "\n",
    "# df21.columns = train.columns\n",
    "# df22.columns = train.columns\n",
    "# df23.columns = train.columns\n",
    "# df24.columns = train.columns\n",
    "# df25.columns = train.columns\n",
    "# df26.columns = train.columns\n",
    "# df27.columns = train.columns\n",
    "# df28.columns = train.columns\n",
    "# df29.columns = train.columns\n",
    "# df210.columns = train.columns\n",
    "# df211.columns = train.columns\n",
    "# df212.columns = train.columns\n",
    "# df213.columns = train.columns\n",
    "# df214.columns = train.columns\n",
    "# df215.columns = train.columns\n",
    "# df216.columns = train.columns\n",
    "# df217.columns = train.columns\n",
    "# df218.columns = train.columns\n",
    "# df219.columns = train.columns\n",
    "# df220.columns = train.columns\n",
    "# df221.columns = train.columns\n",
    "# df222.columns = train.columns\n",
    "# df223.columns = train.columns\n",
    "# df224.columns = train.columns\n",
    "# df225.columns = train.columns\n",
    "# df226.columns = train.columns\n",
    "# df227.columns = train.columns\n",
    "# df228.columns = train.columns\n",
    "# df229.columns = train.columns\n",
    "# df230.columns = train.columns\n",
    "# df231.columns = train.columns\n",
    "\n",
    "# df31.columns = train.columns\n",
    "# df32.columns = train.columns\n",
    "# df33.columns = train.columns\n",
    "# df34.columns = train.columns\n",
    "# df35.columns = train.columns\n",
    "# df36.columns = train.columns\n",
    "# df37.columns = train.columns\n",
    "# df38.columns = train.columns\n",
    "# df39.columns = train.columns\n",
    "# df310.columns = train.columns"
   ]
  },
  {
   "cell_type": "code",
   "execution_count": 40,
   "metadata": {},
   "outputs": [],
   "source": [
    "# train_df = pd.concat([train, \n",
    "#                       df11, df12, df13, df14, \n",
    "#                       df21, df22, df23, df24, df25, df26, df27,\n",
    "#                       df31, df32, df33, df34, df35, df36, df37, \n",
    "#                       df38, df39, df310, df311, df312, df313\n",
    "#                      ]).reset_index(drop=True)\n",
    "# train_df"
   ]
  },
  {
   "cell_type": "code",
   "execution_count": 41,
   "metadata": {},
   "outputs": [],
   "source": [
    "# train_df = pd.concat([train, \n",
    "#                       df11, df12, df13, df14, df15, df16, df17, df18, df19, df110, df111, df112, df113,\n",
    "#                       df21, df22, df23, df24, df25, df26, df27, df28, df29, df210, df211, df212, df213, \n",
    "#                       df214, df215, df216, df217, df218, df219, df220, df221, df222, df223, df224, df225,\n",
    "#                       df226, df227, df228, df229, df230, df231, \n",
    "#                       df31, df32, df33, df34, df35, df36, df37, df38, df39, df310\n",
    "#                      ]).reset_index(drop=True)\n",
    "# train_df"
   ]
  },
  {
   "cell_type": "code",
   "execution_count": 42,
   "metadata": {},
   "outputs": [],
   "source": [
    "#train_df.to_csv('data/유형_시제_aug_final.csv', index=False)\n",
    "#train_df.to_csv('data/극성_확실성_aug_final.csv', index=False)"
   ]
  },
  {
   "cell_type": "code",
   "execution_count": 43,
   "metadata": {},
   "outputs": [],
   "source": [
    "# train1 = pd.read_csv('data/유형_시제_aug_final.csv')\n",
    "# train2 = pd.read_csv('data/극성_확실성_aug_final.csv')\n",
    "\n",
    "# train1.shape, train2.shape"
   ]
  },
  {
   "cell_type": "code",
   "execution_count": 44,
   "metadata": {},
   "outputs": [],
   "source": [
    "# train1.head()"
   ]
  },
  {
   "cell_type": "markdown",
   "metadata": {
    "id": "lCc4flAvV24T"
   },
   "source": [
    "### 5. Train Test Split"
   ]
  },
  {
   "cell_type": "code",
   "execution_count": 45,
   "metadata": {
    "id": "x_Cqhi2uV24T"
   },
   "outputs": [],
   "source": [
    "from sklearn.model_selection import train_test_split\n",
    "train, val, _, _ = train_test_split(train2, train2['label'], test_size=.15, random_state=42, stratify=train2['label'])"
   ]
  },
  {
   "cell_type": "code",
   "execution_count": 46,
   "metadata": {},
   "outputs": [
    {
     "data": {
      "text/plain": [
       "((36368, 7), (6419, 7))"
      ]
     },
     "execution_count": 46,
     "metadata": {},
     "output_type": "execute_result"
    }
   ],
   "source": [
    "train.shape, val.shape"
   ]
  },
  {
   "cell_type": "code",
   "execution_count": 47,
   "metadata": {},
   "outputs": [],
   "source": [
    "from sklearn.preprocessing import LabelEncoder\n",
    "\n",
    "type_le = LabelEncoder()\n",
    "train[\"유형\"] = type_le.fit_transform(train[\"유형\"].values)\n",
    "val[\"유형\"] = type_le.transform(val[\"유형\"].values)\n",
    "\n",
    "polarity_le = LabelEncoder()\n",
    "train[\"극성\"] = polarity_le.fit_transform(train[\"극성\"].values)\n",
    "val[\"극성\"] = polarity_le.transform(val[\"극성\"].values)\n",
    "\n",
    "tense_le = LabelEncoder()\n",
    "train[\"시제\"] = tense_le.fit_transform(train[\"시제\"].values)\n",
    "val[\"시제\"] = tense_le.transform(val[\"시제\"].values)\n",
    "\n",
    "certainty_le = LabelEncoder()\n",
    "train[\"확실성\"] = certainty_le.fit_transform(train[\"확실성\"].values)\n",
    "val[\"확실성\"] = certainty_le.transform(val[\"확실성\"].values)"
   ]
  },
  {
   "cell_type": "code",
   "execution_count": 48,
   "metadata": {},
   "outputs": [],
   "source": [
    "train = train.reset_index(drop=True)\n",
    "val = val.reset_index(drop=True)"
   ]
  },
  {
   "cell_type": "markdown",
   "metadata": {
    "id": "sMimPiR4V24T"
   },
   "source": [
    "### 6. 토크나이저"
   ]
  },
  {
   "cell_type": "code",
   "execution_count": 49,
   "metadata": {
    "colab": {
     "base_uri": "https://localhost:8080/",
     "height": 217,
     "referenced_widgets": [
      "98e2835f43ff4095bf687697df69044e",
      "75620b35a18344b694046ab4490aa846",
      "637c420b4a3c4f969432438b2b2576f2",
      "b2bce9be9d7e4730ab8a6ebda1f62f8f",
      "55b0b903ad8644b18c018894b5b5cdf2",
      "1258a7c8d460475890cc9046b521f85c",
      "ff7192f969374ea89e3358d0d56d979a",
      "1202ed053d7c4f1c888b19e411d64c58",
      "9678e26ceaf84b35b505a56bd3194fe3",
      "e7d1bac69f344db9801d8fd0e8715726",
      "de2a13c637ce401eaf374d87f158d06a",
      "33f9291c852240028a0351f638872fe8",
      "fd5411736e4a402b8fc6ed64a1726ca3",
      "d796d066d09c4ae9b06556e0c7af8ece",
      "61686c7d853d46fe8d68e7294def1b43",
      "d67f530613d649b9ab5c780b55b61efc",
      "f1c4a41cfafa4755b3120f9079aeb9ca",
      "304500cc65124eaeb09fd47a0df3aa26",
      "93c9316fad8842fc882ea0a3307280f4",
      "99d16aaa254947d7ae8869d008961473",
      "6c59b951088449ed8e10e4a02c0d6c51",
      "debc56a5139a4c6c93623434226ff1ea",
      "e5d9d3662704403b995e237f038f009d",
      "baa82e335c724757996e551adf2874ae",
      "a9c16a113d3c49cfaed8fd1501c79518",
      "2b6a1a5efce04d2191080ee0819966fe",
      "2d6c47ee9cd446529b80f569541e7317",
      "5bff07556eaf4a54a5bcdcc2a4d5ccfd",
      "4b2fb19a5b044871aa6a694d5f31190a",
      "7732514704eb4f9e9ca533601e0edce4",
      "c56d40c864ee46db86772b540f1b8560",
      "d96de75c493947c9be028b61bf07c64b"
     ]
    },
    "id": "w6WvjtSTV24T",
    "outputId": "40f0dc78-940b-4c79-8c8f-1807b70e1867"
   },
   "outputs": [],
   "source": [
    "from transformers import AutoModel, AutoTokenizer\n",
    "MODEL_NAME = \"tunib/electra-ko-base\"\n",
    "tokenizer = AutoTokenizer.from_pretrained(MODEL_NAME)"
   ]
  },
  {
   "cell_type": "code",
   "execution_count": 50,
   "metadata": {},
   "outputs": [],
   "source": [
    "class CustomDataset(Dataset):\n",
    "  \n",
    "  def __init__(self, texts, labels, tokenizer):\n",
    "    self.texts = texts\n",
    "    self.labels = labels\n",
    "    self.tokenizer = tokenizer\n",
    "  \n",
    "  def __len__(self):\n",
    "    return len(self.texts)\n",
    "\n",
    "  def __getitem__(self, idx):\n",
    "    inputs = self.tokenizer(\n",
    "        self.texts[idx],\n",
    "        return_tensors='pt',\n",
    "        truncation=True,\n",
    "        max_length=196,\n",
    "        pad_to_max_length=True,\n",
    "        add_special_tokens=True\n",
    "        )\n",
    "    \n",
    "    input_ids = inputs['input_ids'][0]\n",
    "    attention_mask = inputs['attention_mask'][0]\n",
    "    \n",
    "    if self.labels is not None:\n",
    "        label = self.labels[idx]\n",
    "        return input_ids, attention_mask, label\n",
    "    else:\n",
    "        return input_ids, attention_mask"
   ]
  },
  {
   "cell_type": "code",
   "execution_count": 51,
   "metadata": {},
   "outputs": [],
   "source": [
    "train_dataset = CustomDataset(train['문장'], train['확실성'], tokenizer)\n",
    "train_loader = DataLoader(train_dataset, batch_size=CFG['BATCH_SIZE'], shuffle=True, num_workers=0)\n",
    "\n",
    "val_dataset = CustomDataset(val['문장'], val['확실성'], tokenizer)\n",
    "val_loader = DataLoader(val_dataset, batch_size=CFG['BATCH_SIZE'], shuffle=False, num_workers=0)"
   ]
  },
  {
   "cell_type": "markdown",
   "metadata": {
    "id": "Eu0tcVlsV24W"
   },
   "source": [
    "### 7. Train"
   ]
  },
  {
   "cell_type": "code",
   "execution_count": 52,
   "metadata": {},
   "outputs": [],
   "source": [
    "def train(model, optimizer, train_loader, val_loader, scheduler, device):\n",
    "    model.to(device)\n",
    "    \n",
    "    criterion = {'type' : nn.CrossEntropyLoss().to(device)}\n",
    "    \n",
    "    best_loss = 999999\n",
    "    best_model = None\n",
    "    \n",
    "    for epoch in range(1, CFG['EPOCHS']+1):\n",
    "        model.train()\n",
    "        train_loss = []\n",
    "        for input_ids_batch, attention_masks_batch, y_batch in tqdm(iter(train_loader)):\n",
    "            y_batch = y_batch.to(device)\n",
    "            y_pred = model(input_ids_batch.to(device), attention_mask=attention_masks_batch.to(device))[0]\n",
    "#             polarity_label = polarity_label.to(device)\n",
    "#             tense_label = tense_label.to(device)\n",
    "#             certainty_label = certainty_label.to(device)\n",
    "            \n",
    "            optimizer.zero_grad()\n",
    "            \n",
    "            #type_logit = model(sentence)\n",
    "            \n",
    "            loss = criterion['type'](y_pred, y_batch)\n",
    "            \n",
    "            loss.backward()\n",
    "            optimizer.step()\n",
    "            \n",
    "            train_loss.append(loss.item())\n",
    "        \n",
    "        val_loss, val_type_f1 = validation(model, val_loader, criterion, device)\n",
    "        print(f'Epoch : [{epoch}] Train Loss : [{np.mean(train_loss):.5f}] Val Loss : [{val_loss:.5f}] F1 : [{val_type_f1:.5f}]')\n",
    "        \n",
    "        if scheduler is not None:\n",
    "            scheduler.step(val_loss)\n",
    "            \n",
    "        if best_loss > val_loss:\n",
    "            best_loss = val_loss\n",
    "            best_model = model\n",
    "            \n",
    "    return best_model"
   ]
  },
  {
   "cell_type": "code",
   "execution_count": 53,
   "metadata": {},
   "outputs": [],
   "source": [
    "def validation(model, val_loader, criterion, device):\n",
    "    model.eval()\n",
    "    val_loss = []\n",
    "    \n",
    "    type_preds = []\n",
    "    type_labels = []\n",
    "    \n",
    "    \n",
    "    with torch.no_grad():\n",
    "        for input_ids_batch, attention_masks_batch, y_batch in tqdm(iter(val_loader)):\n",
    "            y_batch = y_batch.to(device)\n",
    "            y_pred = model(input_ids_batch.to(device), attention_mask=attention_masks_batch.to(device))[0]\n",
    "#             polarity_label = polarity_label.to(device)\n",
    "#             tense_label = tense_label.to(device)\n",
    "#             certainty_label = certainty_label.to(device)\n",
    "            \n",
    "            #type_logit = model(sentence)\n",
    "            \n",
    "            loss = criterion['type'](y_pred, y_batch)\n",
    "            val_loss.append(loss.item())\n",
    "            \n",
    "            type_preds += y_pred.argmax(1).detach().cpu().numpy().tolist()\n",
    "            type_labels += y_batch.detach().cpu().numpy().tolist()\n",
    "            \n",
    "#             polarity_preds += polarity_logit.argmax(1).detach().cpu().numpy().tolist()\n",
    "#             polarity_labels += polarity_label.detach().cpu().numpy().tolist()\n",
    "            \n",
    "#             tense_preds += tense_logit.argmax(1).detach().cpu().numpy().tolist()\n",
    "#             tense_labels += tense_label.detach().cpu().numpy().tolist()\n",
    "            \n",
    "#             certainty_preds += certainty_logit.argmax(1).detach().cpu().numpy().tolist()\n",
    "#             certainty_labels += certainty_label.detach().cpu().numpy().tolist()\n",
    "    \n",
    "    type_f1 = f1_score(type_labels, type_preds, average='weighted')\n",
    "#     polarity_f1 = f1_score(polarity_labels, polarity_preds, average='weighted')\n",
    "#     tense_f1 = f1_score(tense_labels, tense_preds, average='weighted')\n",
    "#     certainty_f1 = f1_score(certainty_labels, certainty_preds, average='weighted')\n",
    "    \n",
    "    return np.mean(val_loss), type_f1#, polarity_f1, tense_f1, certainty_f1"
   ]
  },
  {
   "cell_type": "code",
   "execution_count": 54,
   "metadata": {},
   "outputs": [
    {
     "name": "stderr",
     "output_type": "stream",
     "text": [
      "Some weights of the model checkpoint at tunib/electra-ko-base were not used when initializing ElectraForSequenceClassification: ['discriminator_predictions.dense.weight', 'discriminator_predictions.dense.bias', 'discriminator_predictions.dense_prediction.weight', 'discriminator_predictions.dense_prediction.bias']\n",
      "- This IS expected if you are initializing ElectraForSequenceClassification from the checkpoint of a model trained on another task or with another architecture (e.g. initializing a BertForSequenceClassification model from a BertForPreTraining model).\n",
      "- This IS NOT expected if you are initializing ElectraForSequenceClassification from the checkpoint of a model that you expect to be exactly identical (initializing a BertForSequenceClassification model from a BertForSequenceClassification model).\n",
      "Some weights of ElectraForSequenceClassification were not initialized from the model checkpoint at tunib/electra-ko-base and are newly initialized: ['classifier.dense.weight', 'classifier.dense.bias', 'classifier.out_proj.weight', 'classifier.out_proj.bias']\n",
      "You should probably TRAIN this model on a down-stream task to be able to use it for predictions and inference.\n"
     ]
    }
   ],
   "source": [
    "from transformers import AutoModelForSequenceClassification\n",
    "\n",
    "model = AutoModelForSequenceClassification.from_pretrained(MODEL_NAME, num_labels=2)\n",
    "model.eval()\n",
    "optimizer = torch.optim.AdamW(params=model.parameters(), lr=CFG[\"LEARNING_RATE\"])\n",
    "scheduler = torch.optim.lr_scheduler.ReduceLROnPlateau(optimizer, mode='min', factor=0.5, patience=2, threshold_mode='abs', min_lr=1e-8, verbose=True)"
   ]
  },
  {
   "cell_type": "code",
   "execution_count": 55,
   "metadata": {},
   "outputs": [
    {
     "data": {
      "application/vnd.jupyter.widget-view+json": {
       "model_id": "f61ec8a69f1c43f885601db4829f925c",
       "version_major": 2,
       "version_minor": 0
      },
      "text/plain": [
       "  0%|          | 0/1137 [00:00<?, ?it/s]"
      ]
     },
     "metadata": {},
     "output_type": "display_data"
    },
    {
     "data": {
      "application/vnd.jupyter.widget-view+json": {
       "model_id": "cfb836466f4b454ab22f69b15f9960c0",
       "version_major": 2,
       "version_minor": 0
      },
      "text/plain": [
       "  0%|          | 0/201 [00:00<?, ?it/s]"
      ]
     },
     "metadata": {},
     "output_type": "display_data"
    },
    {
     "name": "stdout",
     "output_type": "stream",
     "text": [
      "Epoch : [1] Train Loss : [0.26039] Val Loss : [0.25870] F1 : [0.89470]\n"
     ]
    },
    {
     "data": {
      "application/vnd.jupyter.widget-view+json": {
       "model_id": "dac8f80e3d854383acb9e3f5a7dd0fda",
       "version_major": 2,
       "version_minor": 0
      },
      "text/plain": [
       "  0%|          | 0/1137 [00:00<?, ?it/s]"
      ]
     },
     "metadata": {},
     "output_type": "display_data"
    },
    {
     "data": {
      "application/vnd.jupyter.widget-view+json": {
       "model_id": "55543bb0a9064f738a02ccfd391bb523",
       "version_major": 2,
       "version_minor": 0
      },
      "text/plain": [
       "  0%|          | 0/201 [00:00<?, ?it/s]"
      ]
     },
     "metadata": {},
     "output_type": "display_data"
    },
    {
     "name": "stdout",
     "output_type": "stream",
     "text": [
      "Epoch : [2] Train Loss : [0.07833] Val Loss : [0.10692] F1 : [0.96251]\n"
     ]
    },
    {
     "data": {
      "application/vnd.jupyter.widget-view+json": {
       "model_id": "2baf5641cf3f4fc7a8035ad24da52e68",
       "version_major": 2,
       "version_minor": 0
      },
      "text/plain": [
       "  0%|          | 0/1137 [00:00<?, ?it/s]"
      ]
     },
     "metadata": {},
     "output_type": "display_data"
    },
    {
     "data": {
      "application/vnd.jupyter.widget-view+json": {
       "model_id": "fe5d603571394e15a1f21ba9ea0742fc",
       "version_major": 2,
       "version_minor": 0
      },
      "text/plain": [
       "  0%|          | 0/201 [00:00<?, ?it/s]"
      ]
     },
     "metadata": {},
     "output_type": "display_data"
    },
    {
     "name": "stdout",
     "output_type": "stream",
     "text": [
      "Epoch : [3] Train Loss : [0.04576] Val Loss : [0.11025] F1 : [0.96123]\n"
     ]
    },
    {
     "data": {
      "application/vnd.jupyter.widget-view+json": {
       "model_id": "28902a02ef53478dad0839639cedc82f",
       "version_major": 2,
       "version_minor": 0
      },
      "text/plain": [
       "  0%|          | 0/1137 [00:00<?, ?it/s]"
      ]
     },
     "metadata": {},
     "output_type": "display_data"
    },
    {
     "data": {
      "application/vnd.jupyter.widget-view+json": {
       "model_id": "0bf48b9c4c414130b8308515d2d23e90",
       "version_major": 2,
       "version_minor": 0
      },
      "text/plain": [
       "  0%|          | 0/201 [00:00<?, ?it/s]"
      ]
     },
     "metadata": {},
     "output_type": "display_data"
    },
    {
     "name": "stdout",
     "output_type": "stream",
     "text": [
      "Epoch : [4] Train Loss : [0.03312] Val Loss : [0.11118] F1 : [0.96202]\n"
     ]
    },
    {
     "data": {
      "application/vnd.jupyter.widget-view+json": {
       "model_id": "97a6ea5b8c5a41798bdb5a261fb1fee6",
       "version_major": 2,
       "version_minor": 0
      },
      "text/plain": [
       "  0%|          | 0/1137 [00:00<?, ?it/s]"
      ]
     },
     "metadata": {},
     "output_type": "display_data"
    },
    {
     "data": {
      "application/vnd.jupyter.widget-view+json": {
       "model_id": "7fb22beac5424d288b32b9ef0846ca7a",
       "version_major": 2,
       "version_minor": 0
      },
      "text/plain": [
       "  0%|          | 0/201 [00:00<?, ?it/s]"
      ]
     },
     "metadata": {},
     "output_type": "display_data"
    },
    {
     "name": "stdout",
     "output_type": "stream",
     "text": [
      "Epoch : [5] Train Loss : [0.03222] Val Loss : [0.09814] F1 : [0.97085]\n"
     ]
    }
   ],
   "source": [
    "infer_model = train(model, optimizer, train_loader, val_loader, scheduler, device)"
   ]
  },
  {
   "cell_type": "markdown",
   "metadata": {},
   "source": [
    "### 8. Inference"
   ]
  },
  {
   "cell_type": "code",
   "execution_count": 56,
   "metadata": {},
   "outputs": [],
   "source": [
    "test_dataset = CustomDataset(test['문장'], None, tokenizer)\n",
    "test_loader = DataLoader(test_dataset, batch_size=CFG['BATCH_SIZE'], shuffle=False, num_workers=0)"
   ]
  },
  {
   "cell_type": "code",
   "execution_count": 57,
   "metadata": {},
   "outputs": [],
   "source": [
    "def inference(model, test_loader, device):\n",
    "    model.to(device)\n",
    "    model.eval()\n",
    "    \n",
    "    #type_preds, polarity_preds, tense_preds, certainty_preds = [], [], [], []\n",
    "    type_preds = []\n",
    "    \n",
    "    with torch.no_grad():\n",
    "        for input_ids_batch, attention_masks_batch in tqdm(test_loader):            \n",
    "            type_logit = model(input_ids_batch.to(device), attention_mask=attention_masks_batch.to(device))[0]\n",
    "            \n",
    "            type_preds += type_logit.argmax(1).detach().cpu().numpy().tolist()\n",
    "#             polarity_preds += polarity_logit.argmax(1).detach().cpu().numpy().tolist()\n",
    "#             tense_preds += tense_logit.argmax(1).detach().cpu().numpy().tolist()\n",
    "#             certainty_preds += certainty_logit.argmax(1).detach().cpu().numpy().tolist()\n",
    "            \n",
    "    return type_preds#, polarity_preds, tense_preds, certainty_preds"
   ]
  },
  {
   "cell_type": "code",
   "execution_count": 61,
   "metadata": {},
   "outputs": [],
   "source": [
    "#type_preds, polarity_preds, tense_preds, certainty_preds = inference(model, test_loader, device)"
   ]
  },
  {
   "cell_type": "code",
   "execution_count": 58,
   "metadata": {},
   "outputs": [
    {
     "data": {
      "application/vnd.jupyter.widget-view+json": {
       "model_id": "51fe585a773246129af787f587a337fb",
       "version_major": 2,
       "version_minor": 0
      },
      "text/plain": [
       "  0%|          | 0/222 [00:00<?, ?it/s]"
      ]
     },
     "metadata": {},
     "output_type": "display_data"
    }
   ],
   "source": [
    "#type_preds = inference(infer_model, test_loader, device)\n",
    "#polarity_preds = inference(infer_model, test_loader, device)\n",
    "#tense_preds = inference(model, test_loader, device)\n",
    "certainty_preds = inference(model, test_loader, device)"
   ]
  },
  {
   "cell_type": "code",
   "execution_count": 59,
   "metadata": {},
   "outputs": [],
   "source": [
    "#type_preds = type_le.inverse_transform(type_preds)\n",
    "#polarity_preds = polarity_le.inverse_transform(polarity_preds)\n",
    "#tense_preds = tense_le.inverse_transform(tense_preds)\n",
    "certainty_preds = certainty_le.inverse_transform(certainty_preds)"
   ]
  },
  {
   "cell_type": "code",
   "execution_count": 31,
   "metadata": {},
   "outputs": [],
   "source": [
    "# predictions = []\n",
    "# for type_pred, polarity_pred, tense_pred, certainty_pred in zip(type_preds, polarity_preds, tense_preds, certainty_preds):\n",
    "#     predictions.append(type_pred+'-'+polarity_pred+'-'+tense_pred+'-'+certainty_pred)"
   ]
  },
  {
   "cell_type": "markdown",
   "metadata": {},
   "source": [
    "### 9. Submission"
   ]
  },
  {
   "cell_type": "code",
   "execution_count": 158,
   "metadata": {},
   "outputs": [],
   "source": [
    "# submit = pd.read_csv('data/sample_submission.csv')\n",
    "# submit['label'] = predictions"
   ]
  },
  {
   "cell_type": "code",
   "execution_count": 74,
   "metadata": {},
   "outputs": [],
   "source": [
    "# submit = pd.read_csv('submission/aug_1222.csv')\n",
    "# submit.head()"
   ]
  },
  {
   "cell_type": "code",
   "execution_count": 61,
   "metadata": {},
   "outputs": [],
   "source": [
    "#submit['type'] = type_preds\n",
    "#submit['polarity'] = polarity_preds\n",
    "#submit['tense'] = tense_preds\n",
    "submit['certainty'] = certainty_preds"
   ]
  },
  {
   "cell_type": "code",
   "execution_count": 62,
   "metadata": {},
   "outputs": [
    {
     "data": {
      "text/html": [
       "<div>\n",
       "<style scoped>\n",
       "    .dataframe tbody tr th:only-of-type {\n",
       "        vertical-align: middle;\n",
       "    }\n",
       "\n",
       "    .dataframe tbody tr th {\n",
       "        vertical-align: top;\n",
       "    }\n",
       "\n",
       "    .dataframe thead th {\n",
       "        text-align: right;\n",
       "    }\n",
       "</style>\n",
       "<table border=\"1\" class=\"dataframe\">\n",
       "  <thead>\n",
       "    <tr style=\"text-align: right;\">\n",
       "      <th></th>\n",
       "      <th>ID</th>\n",
       "      <th>label</th>\n",
       "      <th>type</th>\n",
       "      <th>tense</th>\n",
       "      <th>polarity</th>\n",
       "      <th>certainty</th>\n",
       "    </tr>\n",
       "  </thead>\n",
       "  <tbody>\n",
       "    <tr>\n",
       "      <th>0</th>\n",
       "      <td>TEST_0000</td>\n",
       "      <td>추론형-긍정-현재-확실</td>\n",
       "      <td>사실형</td>\n",
       "      <td>현재</td>\n",
       "      <td>긍정</td>\n",
       "      <td>확실</td>\n",
       "    </tr>\n",
       "    <tr>\n",
       "      <th>1</th>\n",
       "      <td>TEST_0001</td>\n",
       "      <td>추론형-긍정-현재-확실</td>\n",
       "      <td>사실형</td>\n",
       "      <td>현재</td>\n",
       "      <td>긍정</td>\n",
       "      <td>확실</td>\n",
       "    </tr>\n",
       "    <tr>\n",
       "      <th>2</th>\n",
       "      <td>TEST_0002</td>\n",
       "      <td>추론형-긍정-현재-확실</td>\n",
       "      <td>사실형</td>\n",
       "      <td>과거</td>\n",
       "      <td>긍정</td>\n",
       "      <td>확실</td>\n",
       "    </tr>\n",
       "    <tr>\n",
       "      <th>3</th>\n",
       "      <td>TEST_0003</td>\n",
       "      <td>추론형-긍정-현재-확실</td>\n",
       "      <td>사실형</td>\n",
       "      <td>현재</td>\n",
       "      <td>긍정</td>\n",
       "      <td>확실</td>\n",
       "    </tr>\n",
       "    <tr>\n",
       "      <th>4</th>\n",
       "      <td>TEST_0004</td>\n",
       "      <td>추론형-긍정-현재-확실</td>\n",
       "      <td>사실형</td>\n",
       "      <td>과거</td>\n",
       "      <td>긍정</td>\n",
       "      <td>확실</td>\n",
       "    </tr>\n",
       "  </tbody>\n",
       "</table>\n",
       "</div>"
      ],
      "text/plain": [
       "          ID         label type tense polarity certainty\n",
       "0  TEST_0000  추론형-긍정-현재-확실  사실형    현재       긍정        확실\n",
       "1  TEST_0001  추론형-긍정-현재-확실  사실형    현재       긍정        확실\n",
       "2  TEST_0002  추론형-긍정-현재-확실  사실형    과거       긍정        확실\n",
       "3  TEST_0003  추론형-긍정-현재-확실  사실형    현재       긍정        확실\n",
       "4  TEST_0004  추론형-긍정-현재-확실  사실형    과거       긍정        확실"
      ]
     },
     "execution_count": 62,
     "metadata": {},
     "output_type": "execute_result"
    }
   ],
   "source": [
    "submit.head()"
   ]
  },
  {
   "cell_type": "code",
   "execution_count": 63,
   "metadata": {},
   "outputs": [
    {
     "data": {
      "text/plain": [
       "사실형    5661\n",
       "추론형    1173\n",
       "대화형     196\n",
       "예측형      60\n",
       "Name: type, dtype: int64"
      ]
     },
     "execution_count": 63,
     "metadata": {},
     "output_type": "execute_result"
    }
   ],
   "source": [
    "submit['type'].value_counts()"
   ]
  },
  {
   "cell_type": "code",
   "execution_count": 64,
   "metadata": {},
   "outputs": [
    {
     "data": {
      "text/plain": [
       "긍정    6764\n",
       "부정     171\n",
       "미정     155\n",
       "Name: polarity, dtype: int64"
      ]
     },
     "execution_count": 64,
     "metadata": {},
     "output_type": "execute_result"
    }
   ],
   "source": [
    "submit['polarity'].value_counts()"
   ]
  },
  {
   "cell_type": "code",
   "execution_count": 65,
   "metadata": {},
   "outputs": [
    {
     "data": {
      "text/plain": [
       "현재    3307\n",
       "과거    3231\n",
       "미래     552\n",
       "Name: tense, dtype: int64"
      ]
     },
     "execution_count": 65,
     "metadata": {},
     "output_type": "execute_result"
    }
   ],
   "source": [
    "submit['tense'].value_counts()"
   ]
  },
  {
   "cell_type": "code",
   "execution_count": 66,
   "metadata": {},
   "outputs": [
    {
     "data": {
      "text/plain": [
       "확실     6699\n",
       "불확실     391\n",
       "Name: certainty, dtype: int64"
      ]
     },
     "execution_count": 66,
     "metadata": {},
     "output_type": "execute_result"
    }
   ],
   "source": [
    "submit['certainty'].value_counts()"
   ]
  },
  {
   "cell_type": "code",
   "execution_count": 67,
   "metadata": {},
   "outputs": [],
   "source": [
    "submit['label'] = submit['type'] + '-' + submit['polarity'] + '-' + submit['tense'] + '-' + submit['certainty']"
   ]
  },
  {
   "cell_type": "code",
   "execution_count": 68,
   "metadata": {},
   "outputs": [
    {
     "data": {
      "text/html": [
       "<div>\n",
       "<style scoped>\n",
       "    .dataframe tbody tr th:only-of-type {\n",
       "        vertical-align: middle;\n",
       "    }\n",
       "\n",
       "    .dataframe tbody tr th {\n",
       "        vertical-align: top;\n",
       "    }\n",
       "\n",
       "    .dataframe thead th {\n",
       "        text-align: right;\n",
       "    }\n",
       "</style>\n",
       "<table border=\"1\" class=\"dataframe\">\n",
       "  <thead>\n",
       "    <tr style=\"text-align: right;\">\n",
       "      <th></th>\n",
       "      <th>ID</th>\n",
       "      <th>label</th>\n",
       "    </tr>\n",
       "  </thead>\n",
       "  <tbody>\n",
       "    <tr>\n",
       "      <th>0</th>\n",
       "      <td>TEST_0000</td>\n",
       "      <td>사실형-긍정-현재-확실</td>\n",
       "    </tr>\n",
       "    <tr>\n",
       "      <th>1</th>\n",
       "      <td>TEST_0001</td>\n",
       "      <td>사실형-긍정-현재-확실</td>\n",
       "    </tr>\n",
       "    <tr>\n",
       "      <th>2</th>\n",
       "      <td>TEST_0002</td>\n",
       "      <td>사실형-긍정-과거-확실</td>\n",
       "    </tr>\n",
       "    <tr>\n",
       "      <th>3</th>\n",
       "      <td>TEST_0003</td>\n",
       "      <td>사실형-긍정-현재-확실</td>\n",
       "    </tr>\n",
       "    <tr>\n",
       "      <th>4</th>\n",
       "      <td>TEST_0004</td>\n",
       "      <td>사실형-긍정-과거-확실</td>\n",
       "    </tr>\n",
       "    <tr>\n",
       "      <th>...</th>\n",
       "      <td>...</td>\n",
       "      <td>...</td>\n",
       "    </tr>\n",
       "    <tr>\n",
       "      <th>7085</th>\n",
       "      <td>TEST_7085</td>\n",
       "      <td>사실형-긍정-현재-확실</td>\n",
       "    </tr>\n",
       "    <tr>\n",
       "      <th>7086</th>\n",
       "      <td>TEST_7086</td>\n",
       "      <td>추론형-긍정-현재-확실</td>\n",
       "    </tr>\n",
       "    <tr>\n",
       "      <th>7087</th>\n",
       "      <td>TEST_7087</td>\n",
       "      <td>사실형-긍정-현재-확실</td>\n",
       "    </tr>\n",
       "    <tr>\n",
       "      <th>7088</th>\n",
       "      <td>TEST_7088</td>\n",
       "      <td>추론형-미정-미래-확실</td>\n",
       "    </tr>\n",
       "    <tr>\n",
       "      <th>7089</th>\n",
       "      <td>TEST_7089</td>\n",
       "      <td>사실형-긍정-과거-확실</td>\n",
       "    </tr>\n",
       "  </tbody>\n",
       "</table>\n",
       "<p>7090 rows × 2 columns</p>\n",
       "</div>"
      ],
      "text/plain": [
       "             ID         label\n",
       "0     TEST_0000  사실형-긍정-현재-확실\n",
       "1     TEST_0001  사실형-긍정-현재-확실\n",
       "2     TEST_0002  사실형-긍정-과거-확실\n",
       "3     TEST_0003  사실형-긍정-현재-확실\n",
       "4     TEST_0004  사실형-긍정-과거-확실\n",
       "...         ...           ...\n",
       "7085  TEST_7085  사실형-긍정-현재-확실\n",
       "7086  TEST_7086  추론형-긍정-현재-확실\n",
       "7087  TEST_7087  사실형-긍정-현재-확실\n",
       "7088  TEST_7088  추론형-미정-미래-확실\n",
       "7089  TEST_7089  사실형-긍정-과거-확실\n",
       "\n",
       "[7090 rows x 2 columns]"
      ]
     },
     "execution_count": 68,
     "metadata": {},
     "output_type": "execute_result"
    }
   ],
   "source": [
    "submit = submit[['ID', 'label']]\n",
    "submit"
   ]
  },
  {
   "cell_type": "code",
   "execution_count": 70,
   "metadata": {},
   "outputs": [
    {
     "data": {
      "text/plain": [
       "51"
      ]
     },
     "execution_count": 70,
     "metadata": {},
     "output_type": "execute_result"
    }
   ],
   "source": [
    "submit['label'].nunique()"
   ]
  },
  {
   "cell_type": "code",
   "execution_count": 71,
   "metadata": {},
   "outputs": [],
   "source": [
    "submit.to_csv('submission/aug_1222.csv', index=False)"
   ]
  },
  {
   "cell_type": "code",
   "execution_count": null,
   "metadata": {},
   "outputs": [],
   "source": [
    "#submit.to_csv('submission/baseline_1216.csv', index=False)"
   ]
  },
  {
   "cell_type": "code",
   "execution_count": null,
   "metadata": {},
   "outputs": [],
   "source": []
  }
 ],
 "metadata": {
  "accelerator": "GPU",
  "colab": {
   "collapsed_sections": [],
   "name": "Day7_실습자료_0_문장_토큰_단위_학습.ipynb",
   "provenance": []
  },
  "kernelspec": {
   "display_name": "PyTorch 1.9.0 on Python 3.8 (CUDA 11.1)",
   "language": "python",
   "name": "python3"
  },
  "language_info": {
   "codemirror_mode": {
    "name": "ipython",
    "version": 3
   },
   "file_extension": ".py",
   "mimetype": "text/x-python",
   "name": "python",
   "nbconvert_exporter": "python",
   "pygments_lexer": "ipython3",
   "version": "3.8.12 (default, Oct 12 2021, 03:01:40) [MSC v.1916 64 bit (AMD64)]"
  },
  "vscode": {
   "interpreter": {
    "hash": "88632544536f896c8f35d918b5e3583a50162ec118335e005391c3e813c5eb36"
   }
  },
  "widgets": {
   "application/vnd.jupyter.widget-state+json": {
    "03a3ad4549b84b0595360b5107833359": {
     "model_module": "@jupyter-widgets/base",
     "model_module_version": "1.2.0",
     "model_name": "LayoutModel",
     "state": {
      "_model_module": "@jupyter-widgets/base",
      "_model_module_version": "1.2.0",
      "_model_name": "LayoutModel",
      "_view_count": null,
      "_view_module": "@jupyter-widgets/base",
      "_view_module_version": "1.2.0",
      "_view_name": "LayoutView",
      "align_content": null,
      "align_items": null,
      "align_self": null,
      "border": null,
      "bottom": null,
      "display": null,
      "flex": null,
      "flex_flow": null,
      "grid_area": null,
      "grid_auto_columns": null,
      "grid_auto_flow": null,
      "grid_auto_rows": null,
      "grid_column": null,
      "grid_gap": null,
      "grid_row": null,
      "grid_template_areas": null,
      "grid_template_columns": null,
      "grid_template_rows": null,
      "height": null,
      "justify_content": null,
      "justify_items": null,
      "left": null,
      "margin": null,
      "max_height": null,
      "max_width": null,
      "min_height": null,
      "min_width": null,
      "object_fit": null,
      "object_position": null,
      "order": null,
      "overflow": null,
      "overflow_x": null,
      "overflow_y": null,
      "padding": null,
      "right": null,
      "top": null,
      "visibility": null,
      "width": null
     }
    },
    "1202ed053d7c4f1c888b19e411d64c58": {
     "model_module": "@jupyter-widgets/base",
     "model_module_version": "1.2.0",
     "model_name": "LayoutModel",
     "state": {
      "_model_module": "@jupyter-widgets/base",
      "_model_module_version": "1.2.0",
      "_model_name": "LayoutModel",
      "_view_count": null,
      "_view_module": "@jupyter-widgets/base",
      "_view_module_version": "1.2.0",
      "_view_name": "LayoutView",
      "align_content": null,
      "align_items": null,
      "align_self": null,
      "border": null,
      "bottom": null,
      "display": null,
      "flex": null,
      "flex_flow": null,
      "grid_area": null,
      "grid_auto_columns": null,
      "grid_auto_flow": null,
      "grid_auto_rows": null,
      "grid_column": null,
      "grid_gap": null,
      "grid_row": null,
      "grid_template_areas": null,
      "grid_template_columns": null,
      "grid_template_rows": null,
      "height": null,
      "justify_content": null,
      "justify_items": null,
      "left": null,
      "margin": null,
      "max_height": null,
      "max_width": null,
      "min_height": null,
      "min_width": null,
      "object_fit": null,
      "object_position": null,
      "order": null,
      "overflow": null,
      "overflow_x": null,
      "overflow_y": null,
      "padding": null,
      "right": null,
      "top": null,
      "visibility": null,
      "width": null
     }
    },
    "1258a7c8d460475890cc9046b521f85c": {
     "model_module": "@jupyter-widgets/base",
     "model_module_version": "1.2.0",
     "model_name": "LayoutModel",
     "state": {
      "_model_module": "@jupyter-widgets/base",
      "_model_module_version": "1.2.0",
      "_model_name": "LayoutModel",
      "_view_count": null,
      "_view_module": "@jupyter-widgets/base",
      "_view_module_version": "1.2.0",
      "_view_name": "LayoutView",
      "align_content": null,
      "align_items": null,
      "align_self": null,
      "border": null,
      "bottom": null,
      "display": null,
      "flex": null,
      "flex_flow": null,
      "grid_area": null,
      "grid_auto_columns": null,
      "grid_auto_flow": null,
      "grid_auto_rows": null,
      "grid_column": null,
      "grid_gap": null,
      "grid_row": null,
      "grid_template_areas": null,
      "grid_template_columns": null,
      "grid_template_rows": null,
      "height": null,
      "justify_content": null,
      "justify_items": null,
      "left": null,
      "margin": null,
      "max_height": null,
      "max_width": null,
      "min_height": null,
      "min_width": null,
      "object_fit": null,
      "object_position": null,
      "order": null,
      "overflow": null,
      "overflow_x": null,
      "overflow_y": null,
      "padding": null,
      "right": null,
      "top": null,
      "visibility": null,
      "width": null
     }
    },
    "2111f31fc12d49b0ae2a683d5ab5ff3d": {
     "model_module": "@jupyter-widgets/controls",
     "model_module_version": "1.5.0",
     "model_name": "HBoxModel",
     "state": {
      "_dom_classes": [],
      "_model_module": "@jupyter-widgets/controls",
      "_model_module_version": "1.5.0",
      "_model_name": "HBoxModel",
      "_view_count": null,
      "_view_module": "@jupyter-widgets/controls",
      "_view_module_version": "1.5.0",
      "_view_name": "HBoxView",
      "box_style": "",
      "children": [
       "IPY_MODEL_e0817181b45c4bb3a668858cbfe40d77",
       "IPY_MODEL_a01fb28d8c7d438a97dd67751a0eeae1"
      ],
      "layout": "IPY_MODEL_03a3ad4549b84b0595360b5107833359"
     }
    },
    "2b6a1a5efce04d2191080ee0819966fe": {
     "model_module": "@jupyter-widgets/base",
     "model_module_version": "1.2.0",
     "model_name": "LayoutModel",
     "state": {
      "_model_module": "@jupyter-widgets/base",
      "_model_module_version": "1.2.0",
      "_model_name": "LayoutModel",
      "_view_count": null,
      "_view_module": "@jupyter-widgets/base",
      "_view_module_version": "1.2.0",
      "_view_name": "LayoutView",
      "align_content": null,
      "align_items": null,
      "align_self": null,
      "border": null,
      "bottom": null,
      "display": null,
      "flex": null,
      "flex_flow": null,
      "grid_area": null,
      "grid_auto_columns": null,
      "grid_auto_flow": null,
      "grid_auto_rows": null,
      "grid_column": null,
      "grid_gap": null,
      "grid_row": null,
      "grid_template_areas": null,
      "grid_template_columns": null,
      "grid_template_rows": null,
      "height": null,
      "justify_content": null,
      "justify_items": null,
      "left": null,
      "margin": null,
      "max_height": null,
      "max_width": null,
      "min_height": null,
      "min_width": null,
      "object_fit": null,
      "object_position": null,
      "order": null,
      "overflow": null,
      "overflow_x": null,
      "overflow_y": null,
      "padding": null,
      "right": null,
      "top": null,
      "visibility": null,
      "width": null
     }
    },
    "2d6c47ee9cd446529b80f569541e7317": {
     "model_module": "@jupyter-widgets/controls",
     "model_module_version": "1.5.0",
     "model_name": "FloatProgressModel",
     "state": {
      "_dom_classes": [],
      "_model_module": "@jupyter-widgets/controls",
      "_model_module_version": "1.5.0",
      "_model_name": "FloatProgressModel",
      "_view_count": null,
      "_view_module": "@jupyter-widgets/controls",
      "_view_module_version": "1.5.0",
      "_view_name": "ProgressView",
      "bar_style": "success",
      "description": "Downloading: 100%",
      "description_tooltip": null,
      "layout": "IPY_MODEL_7732514704eb4f9e9ca533601e0edce4",
      "max": 29,
      "min": 0,
      "orientation": "horizontal",
      "style": "IPY_MODEL_4b2fb19a5b044871aa6a694d5f31190a",
      "value": 29
     }
    },
    "304500cc65124eaeb09fd47a0df3aa26": {
     "model_module": "@jupyter-widgets/base",
     "model_module_version": "1.2.0",
     "model_name": "LayoutModel",
     "state": {
      "_model_module": "@jupyter-widgets/base",
      "_model_module_version": "1.2.0",
      "_model_name": "LayoutModel",
      "_view_count": null,
      "_view_module": "@jupyter-widgets/base",
      "_view_module_version": "1.2.0",
      "_view_name": "LayoutView",
      "align_content": null,
      "align_items": null,
      "align_self": null,
      "border": null,
      "bottom": null,
      "display": null,
      "flex": null,
      "flex_flow": null,
      "grid_area": null,
      "grid_auto_columns": null,
      "grid_auto_flow": null,
      "grid_auto_rows": null,
      "grid_column": null,
      "grid_gap": null,
      "grid_row": null,
      "grid_template_areas": null,
      "grid_template_columns": null,
      "grid_template_rows": null,
      "height": null,
      "justify_content": null,
      "justify_items": null,
      "left": null,
      "margin": null,
      "max_height": null,
      "max_width": null,
      "min_height": null,
      "min_width": null,
      "object_fit": null,
      "object_position": null,
      "order": null,
      "overflow": null,
      "overflow_x": null,
      "overflow_y": null,
      "padding": null,
      "right": null,
      "top": null,
      "visibility": null,
      "width": null
     }
    },
    "3302f314a7734af4a86502c773fd3132": {
     "model_module": "@jupyter-widgets/controls",
     "model_module_version": "1.5.0",
     "model_name": "DescriptionStyleModel",
     "state": {
      "_model_module": "@jupyter-widgets/controls",
      "_model_module_version": "1.5.0",
      "_model_name": "DescriptionStyleModel",
      "_view_count": null,
      "_view_module": "@jupyter-widgets/base",
      "_view_module_version": "1.2.0",
      "_view_name": "StyleView",
      "description_width": ""
     }
    },
    "33f9291c852240028a0351f638872fe8": {
     "model_module": "@jupyter-widgets/controls",
     "model_module_version": "1.5.0",
     "model_name": "HTMLModel",
     "state": {
      "_dom_classes": [],
      "_model_module": "@jupyter-widgets/controls",
      "_model_module_version": "1.5.0",
      "_model_name": "HTMLModel",
      "_view_count": null,
      "_view_module": "@jupyter-widgets/controls",
      "_view_module_version": "1.5.0",
      "_view_name": "HTMLView",
      "description": "",
      "description_tooltip": null,
      "layout": "IPY_MODEL_d67f530613d649b9ab5c780b55b61efc",
      "placeholder": "​",
      "style": "IPY_MODEL_61686c7d853d46fe8d68e7294def1b43",
      "value": " 996k/996k [00:00&lt;00:00, 6.52MB/s]"
     }
    },
    "47d4cfd9017e4671832aaa1ad10bc17d": {
     "model_module": "@jupyter-widgets/base",
     "model_module_version": "1.2.0",
     "model_name": "LayoutModel",
     "state": {
      "_model_module": "@jupyter-widgets/base",
      "_model_module_version": "1.2.0",
      "_model_name": "LayoutModel",
      "_view_count": null,
      "_view_module": "@jupyter-widgets/base",
      "_view_module_version": "1.2.0",
      "_view_name": "LayoutView",
      "align_content": null,
      "align_items": null,
      "align_self": null,
      "border": null,
      "bottom": null,
      "display": null,
      "flex": null,
      "flex_flow": null,
      "grid_area": null,
      "grid_auto_columns": null,
      "grid_auto_flow": null,
      "grid_auto_rows": null,
      "grid_column": null,
      "grid_gap": null,
      "grid_row": null,
      "grid_template_areas": null,
      "grid_template_columns": null,
      "grid_template_rows": null,
      "height": null,
      "justify_content": null,
      "justify_items": null,
      "left": null,
      "margin": null,
      "max_height": null,
      "max_width": null,
      "min_height": null,
      "min_width": null,
      "object_fit": null,
      "object_position": null,
      "order": null,
      "overflow": null,
      "overflow_x": null,
      "overflow_y": null,
      "padding": null,
      "right": null,
      "top": null,
      "visibility": null,
      "width": null
     }
    },
    "4b2fb19a5b044871aa6a694d5f31190a": {
     "model_module": "@jupyter-widgets/controls",
     "model_module_version": "1.5.0",
     "model_name": "ProgressStyleModel",
     "state": {
      "_model_module": "@jupyter-widgets/controls",
      "_model_module_version": "1.5.0",
      "_model_name": "ProgressStyleModel",
      "_view_count": null,
      "_view_module": "@jupyter-widgets/base",
      "_view_module_version": "1.2.0",
      "_view_name": "StyleView",
      "bar_color": null,
      "description_width": "initial"
     }
    },
    "55b0b903ad8644b18c018894b5b5cdf2": {
     "model_module": "@jupyter-widgets/controls",
     "model_module_version": "1.5.0",
     "model_name": "ProgressStyleModel",
     "state": {
      "_model_module": "@jupyter-widgets/controls",
      "_model_module_version": "1.5.0",
      "_model_name": "ProgressStyleModel",
      "_view_count": null,
      "_view_module": "@jupyter-widgets/base",
      "_view_module_version": "1.2.0",
      "_view_name": "StyleView",
      "bar_color": null,
      "description_width": "initial"
     }
    },
    "5bff07556eaf4a54a5bcdcc2a4d5ccfd": {
     "model_module": "@jupyter-widgets/controls",
     "model_module_version": "1.5.0",
     "model_name": "HTMLModel",
     "state": {
      "_dom_classes": [],
      "_model_module": "@jupyter-widgets/controls",
      "_model_module_version": "1.5.0",
      "_model_name": "HTMLModel",
      "_view_count": null,
      "_view_module": "@jupyter-widgets/controls",
      "_view_module_version": "1.5.0",
      "_view_name": "HTMLView",
      "description": "",
      "description_tooltip": null,
      "layout": "IPY_MODEL_d96de75c493947c9be028b61bf07c64b",
      "placeholder": "​",
      "style": "IPY_MODEL_c56d40c864ee46db86772b540f1b8560",
      "value": " 29.0/29.0 [03:32&lt;00:00, 7.31s/B]"
     }
    },
    "61686c7d853d46fe8d68e7294def1b43": {
     "model_module": "@jupyter-widgets/controls",
     "model_module_version": "1.5.0",
     "model_name": "DescriptionStyleModel",
     "state": {
      "_model_module": "@jupyter-widgets/controls",
      "_model_module_version": "1.5.0",
      "_model_name": "DescriptionStyleModel",
      "_view_count": null,
      "_view_module": "@jupyter-widgets/base",
      "_view_module_version": "1.2.0",
      "_view_name": "StyleView",
      "description_width": ""
     }
    },
    "637c420b4a3c4f969432438b2b2576f2": {
     "model_module": "@jupyter-widgets/controls",
     "model_module_version": "1.5.0",
     "model_name": "FloatProgressModel",
     "state": {
      "_dom_classes": [],
      "_model_module": "@jupyter-widgets/controls",
      "_model_module_version": "1.5.0",
      "_model_name": "FloatProgressModel",
      "_view_count": null,
      "_view_module": "@jupyter-widgets/controls",
      "_view_module_version": "1.5.0",
      "_view_name": "ProgressView",
      "bar_style": "success",
      "description": "Downloading: 100%",
      "description_tooltip": null,
      "layout": "IPY_MODEL_1258a7c8d460475890cc9046b521f85c",
      "max": 625,
      "min": 0,
      "orientation": "horizontal",
      "style": "IPY_MODEL_55b0b903ad8644b18c018894b5b5cdf2",
      "value": 625
     }
    },
    "6c59b951088449ed8e10e4a02c0d6c51": {
     "model_module": "@jupyter-widgets/controls",
     "model_module_version": "1.5.0",
     "model_name": "ProgressStyleModel",
     "state": {
      "_model_module": "@jupyter-widgets/controls",
      "_model_module_version": "1.5.0",
      "_model_name": "ProgressStyleModel",
      "_view_count": null,
      "_view_module": "@jupyter-widgets/base",
      "_view_module_version": "1.2.0",
      "_view_name": "StyleView",
      "bar_color": null,
      "description_width": "initial"
     }
    },
    "75620b35a18344b694046ab4490aa846": {
     "model_module": "@jupyter-widgets/base",
     "model_module_version": "1.2.0",
     "model_name": "LayoutModel",
     "state": {
      "_model_module": "@jupyter-widgets/base",
      "_model_module_version": "1.2.0",
      "_model_name": "LayoutModel",
      "_view_count": null,
      "_view_module": "@jupyter-widgets/base",
      "_view_module_version": "1.2.0",
      "_view_name": "LayoutView",
      "align_content": null,
      "align_items": null,
      "align_self": null,
      "border": null,
      "bottom": null,
      "display": null,
      "flex": null,
      "flex_flow": null,
      "grid_area": null,
      "grid_auto_columns": null,
      "grid_auto_flow": null,
      "grid_auto_rows": null,
      "grid_column": null,
      "grid_gap": null,
      "grid_row": null,
      "grid_template_areas": null,
      "grid_template_columns": null,
      "grid_template_rows": null,
      "height": null,
      "justify_content": null,
      "justify_items": null,
      "left": null,
      "margin": null,
      "max_height": null,
      "max_width": null,
      "min_height": null,
      "min_width": null,
      "object_fit": null,
      "object_position": null,
      "order": null,
      "overflow": null,
      "overflow_x": null,
      "overflow_y": null,
      "padding": null,
      "right": null,
      "top": null,
      "visibility": null,
      "width": null
     }
    },
    "7732514704eb4f9e9ca533601e0edce4": {
     "model_module": "@jupyter-widgets/base",
     "model_module_version": "1.2.0",
     "model_name": "LayoutModel",
     "state": {
      "_model_module": "@jupyter-widgets/base",
      "_model_module_version": "1.2.0",
      "_model_name": "LayoutModel",
      "_view_count": null,
      "_view_module": "@jupyter-widgets/base",
      "_view_module_version": "1.2.0",
      "_view_name": "LayoutView",
      "align_content": null,
      "align_items": null,
      "align_self": null,
      "border": null,
      "bottom": null,
      "display": null,
      "flex": null,
      "flex_flow": null,
      "grid_area": null,
      "grid_auto_columns": null,
      "grid_auto_flow": null,
      "grid_auto_rows": null,
      "grid_column": null,
      "grid_gap": null,
      "grid_row": null,
      "grid_template_areas": null,
      "grid_template_columns": null,
      "grid_template_rows": null,
      "height": null,
      "justify_content": null,
      "justify_items": null,
      "left": null,
      "margin": null,
      "max_height": null,
      "max_width": null,
      "min_height": null,
      "min_width": null,
      "object_fit": null,
      "object_position": null,
      "order": null,
      "overflow": null,
      "overflow_x": null,
      "overflow_y": null,
      "padding": null,
      "right": null,
      "top": null,
      "visibility": null,
      "width": null
     }
    },
    "93c9316fad8842fc882ea0a3307280f4": {
     "model_module": "@jupyter-widgets/controls",
     "model_module_version": "1.5.0",
     "model_name": "FloatProgressModel",
     "state": {
      "_dom_classes": [],
      "_model_module": "@jupyter-widgets/controls",
      "_model_module_version": "1.5.0",
      "_model_name": "FloatProgressModel",
      "_view_count": null,
      "_view_module": "@jupyter-widgets/controls",
      "_view_module_version": "1.5.0",
      "_view_name": "ProgressView",
      "bar_style": "success",
      "description": "Downloading: 100%",
      "description_tooltip": null,
      "layout": "IPY_MODEL_debc56a5139a4c6c93623434226ff1ea",
      "max": 1961828,
      "min": 0,
      "orientation": "horizontal",
      "style": "IPY_MODEL_6c59b951088449ed8e10e4a02c0d6c51",
      "value": 1961828
     }
    },
    "9678e26ceaf84b35b505a56bd3194fe3": {
     "model_module": "@jupyter-widgets/controls",
     "model_module_version": "1.5.0",
     "model_name": "HBoxModel",
     "state": {
      "_dom_classes": [],
      "_model_module": "@jupyter-widgets/controls",
      "_model_module_version": "1.5.0",
      "_model_name": "HBoxModel",
      "_view_count": null,
      "_view_module": "@jupyter-widgets/controls",
      "_view_module_version": "1.5.0",
      "_view_name": "HBoxView",
      "box_style": "",
      "children": [
       "IPY_MODEL_de2a13c637ce401eaf374d87f158d06a",
       "IPY_MODEL_33f9291c852240028a0351f638872fe8"
      ],
      "layout": "IPY_MODEL_e7d1bac69f344db9801d8fd0e8715726"
     }
    },
    "98e2835f43ff4095bf687697df69044e": {
     "model_module": "@jupyter-widgets/controls",
     "model_module_version": "1.5.0",
     "model_name": "HBoxModel",
     "state": {
      "_dom_classes": [],
      "_model_module": "@jupyter-widgets/controls",
      "_model_module_version": "1.5.0",
      "_model_name": "HBoxModel",
      "_view_count": null,
      "_view_module": "@jupyter-widgets/controls",
      "_view_module_version": "1.5.0",
      "_view_name": "HBoxView",
      "box_style": "",
      "children": [
       "IPY_MODEL_637c420b4a3c4f969432438b2b2576f2",
       "IPY_MODEL_b2bce9be9d7e4730ab8a6ebda1f62f8f"
      ],
      "layout": "IPY_MODEL_75620b35a18344b694046ab4490aa846"
     }
    },
    "99d16aaa254947d7ae8869d008961473": {
     "model_module": "@jupyter-widgets/controls",
     "model_module_version": "1.5.0",
     "model_name": "HTMLModel",
     "state": {
      "_dom_classes": [],
      "_model_module": "@jupyter-widgets/controls",
      "_model_module_version": "1.5.0",
      "_model_name": "HTMLModel",
      "_view_count": null,
      "_view_module": "@jupyter-widgets/controls",
      "_view_module_version": "1.5.0",
      "_view_name": "HTMLView",
      "description": "",
      "description_tooltip": null,
      "layout": "IPY_MODEL_baa82e335c724757996e551adf2874ae",
      "placeholder": "​",
      "style": "IPY_MODEL_e5d9d3662704403b995e237f038f009d",
      "value": " 1.96M/1.96M [22:39&lt;00:00, 1.44kB/s]"
     }
    },
    "a01fb28d8c7d438a97dd67751a0eeae1": {
     "model_module": "@jupyter-widgets/controls",
     "model_module_version": "1.5.0",
     "model_name": "HTMLModel",
     "state": {
      "_dom_classes": [],
      "_model_module": "@jupyter-widgets/controls",
      "_model_module_version": "1.5.0",
      "_model_name": "HTMLModel",
      "_view_count": null,
      "_view_module": "@jupyter-widgets/controls",
      "_view_module_version": "1.5.0",
      "_view_name": "HTMLView",
      "description": "",
      "description_tooltip": null,
      "layout": "IPY_MODEL_b0f9258f0abb4a869a5c7694b4d0599f",
      "placeholder": "​",
      "style": "IPY_MODEL_3302f314a7734af4a86502c773fd3132",
      "value": " 714M/714M [00:31&lt;00:00, 23.0MB/s]"
     }
    },
    "a4fff8d730a74e02a51349c2ef52034e": {
     "model_module": "@jupyter-widgets/controls",
     "model_module_version": "1.5.0",
     "model_name": "ProgressStyleModel",
     "state": {
      "_model_module": "@jupyter-widgets/controls",
      "_model_module_version": "1.5.0",
      "_model_name": "ProgressStyleModel",
      "_view_count": null,
      "_view_module": "@jupyter-widgets/base",
      "_view_module_version": "1.2.0",
      "_view_name": "StyleView",
      "bar_color": null,
      "description_width": "initial"
     }
    },
    "a9c16a113d3c49cfaed8fd1501c79518": {
     "model_module": "@jupyter-widgets/controls",
     "model_module_version": "1.5.0",
     "model_name": "HBoxModel",
     "state": {
      "_dom_classes": [],
      "_model_module": "@jupyter-widgets/controls",
      "_model_module_version": "1.5.0",
      "_model_name": "HBoxModel",
      "_view_count": null,
      "_view_module": "@jupyter-widgets/controls",
      "_view_module_version": "1.5.0",
      "_view_name": "HBoxView",
      "box_style": "",
      "children": [
       "IPY_MODEL_2d6c47ee9cd446529b80f569541e7317",
       "IPY_MODEL_5bff07556eaf4a54a5bcdcc2a4d5ccfd"
      ],
      "layout": "IPY_MODEL_2b6a1a5efce04d2191080ee0819966fe"
     }
    },
    "b0f9258f0abb4a869a5c7694b4d0599f": {
     "model_module": "@jupyter-widgets/base",
     "model_module_version": "1.2.0",
     "model_name": "LayoutModel",
     "state": {
      "_model_module": "@jupyter-widgets/base",
      "_model_module_version": "1.2.0",
      "_model_name": "LayoutModel",
      "_view_count": null,
      "_view_module": "@jupyter-widgets/base",
      "_view_module_version": "1.2.0",
      "_view_name": "LayoutView",
      "align_content": null,
      "align_items": null,
      "align_self": null,
      "border": null,
      "bottom": null,
      "display": null,
      "flex": null,
      "flex_flow": null,
      "grid_area": null,
      "grid_auto_columns": null,
      "grid_auto_flow": null,
      "grid_auto_rows": null,
      "grid_column": null,
      "grid_gap": null,
      "grid_row": null,
      "grid_template_areas": null,
      "grid_template_columns": null,
      "grid_template_rows": null,
      "height": null,
      "justify_content": null,
      "justify_items": null,
      "left": null,
      "margin": null,
      "max_height": null,
      "max_width": null,
      "min_height": null,
      "min_width": null,
      "object_fit": null,
      "object_position": null,
      "order": null,
      "overflow": null,
      "overflow_x": null,
      "overflow_y": null,
      "padding": null,
      "right": null,
      "top": null,
      "visibility": null,
      "width": null
     }
    },
    "b2bce9be9d7e4730ab8a6ebda1f62f8f": {
     "model_module": "@jupyter-widgets/controls",
     "model_module_version": "1.5.0",
     "model_name": "HTMLModel",
     "state": {
      "_dom_classes": [],
      "_model_module": "@jupyter-widgets/controls",
      "_model_module_version": "1.5.0",
      "_model_name": "HTMLModel",
      "_view_count": null,
      "_view_module": "@jupyter-widgets/controls",
      "_view_module_version": "1.5.0",
      "_view_name": "HTMLView",
      "description": "",
      "description_tooltip": null,
      "layout": "IPY_MODEL_1202ed053d7c4f1c888b19e411d64c58",
      "placeholder": "​",
      "style": "IPY_MODEL_ff7192f969374ea89e3358d0d56d979a",
      "value": " 625/625 [22:40&lt;00:00, 2.18s/B]"
     }
    },
    "baa82e335c724757996e551adf2874ae": {
     "model_module": "@jupyter-widgets/base",
     "model_module_version": "1.2.0",
     "model_name": "LayoutModel",
     "state": {
      "_model_module": "@jupyter-widgets/base",
      "_model_module_version": "1.2.0",
      "_model_name": "LayoutModel",
      "_view_count": null,
      "_view_module": "@jupyter-widgets/base",
      "_view_module_version": "1.2.0",
      "_view_name": "LayoutView",
      "align_content": null,
      "align_items": null,
      "align_self": null,
      "border": null,
      "bottom": null,
      "display": null,
      "flex": null,
      "flex_flow": null,
      "grid_area": null,
      "grid_auto_columns": null,
      "grid_auto_flow": null,
      "grid_auto_rows": null,
      "grid_column": null,
      "grid_gap": null,
      "grid_row": null,
      "grid_template_areas": null,
      "grid_template_columns": null,
      "grid_template_rows": null,
      "height": null,
      "justify_content": null,
      "justify_items": null,
      "left": null,
      "margin": null,
      "max_height": null,
      "max_width": null,
      "min_height": null,
      "min_width": null,
      "object_fit": null,
      "object_position": null,
      "order": null,
      "overflow": null,
      "overflow_x": null,
      "overflow_y": null,
      "padding": null,
      "right": null,
      "top": null,
      "visibility": null,
      "width": null
     }
    },
    "c56d40c864ee46db86772b540f1b8560": {
     "model_module": "@jupyter-widgets/controls",
     "model_module_version": "1.5.0",
     "model_name": "DescriptionStyleModel",
     "state": {
      "_model_module": "@jupyter-widgets/controls",
      "_model_module_version": "1.5.0",
      "_model_name": "DescriptionStyleModel",
      "_view_count": null,
      "_view_module": "@jupyter-widgets/base",
      "_view_module_version": "1.2.0",
      "_view_name": "StyleView",
      "description_width": ""
     }
    },
    "d67f530613d649b9ab5c780b55b61efc": {
     "model_module": "@jupyter-widgets/base",
     "model_module_version": "1.2.0",
     "model_name": "LayoutModel",
     "state": {
      "_model_module": "@jupyter-widgets/base",
      "_model_module_version": "1.2.0",
      "_model_name": "LayoutModel",
      "_view_count": null,
      "_view_module": "@jupyter-widgets/base",
      "_view_module_version": "1.2.0",
      "_view_name": "LayoutView",
      "align_content": null,
      "align_items": null,
      "align_self": null,
      "border": null,
      "bottom": null,
      "display": null,
      "flex": null,
      "flex_flow": null,
      "grid_area": null,
      "grid_auto_columns": null,
      "grid_auto_flow": null,
      "grid_auto_rows": null,
      "grid_column": null,
      "grid_gap": null,
      "grid_row": null,
      "grid_template_areas": null,
      "grid_template_columns": null,
      "grid_template_rows": null,
      "height": null,
      "justify_content": null,
      "justify_items": null,
      "left": null,
      "margin": null,
      "max_height": null,
      "max_width": null,
      "min_height": null,
      "min_width": null,
      "object_fit": null,
      "object_position": null,
      "order": null,
      "overflow": null,
      "overflow_x": null,
      "overflow_y": null,
      "padding": null,
      "right": null,
      "top": null,
      "visibility": null,
      "width": null
     }
    },
    "d796d066d09c4ae9b06556e0c7af8ece": {
     "model_module": "@jupyter-widgets/base",
     "model_module_version": "1.2.0",
     "model_name": "LayoutModel",
     "state": {
      "_model_module": "@jupyter-widgets/base",
      "_model_module_version": "1.2.0",
      "_model_name": "LayoutModel",
      "_view_count": null,
      "_view_module": "@jupyter-widgets/base",
      "_view_module_version": "1.2.0",
      "_view_name": "LayoutView",
      "align_content": null,
      "align_items": null,
      "align_self": null,
      "border": null,
      "bottom": null,
      "display": null,
      "flex": null,
      "flex_flow": null,
      "grid_area": null,
      "grid_auto_columns": null,
      "grid_auto_flow": null,
      "grid_auto_rows": null,
      "grid_column": null,
      "grid_gap": null,
      "grid_row": null,
      "grid_template_areas": null,
      "grid_template_columns": null,
      "grid_template_rows": null,
      "height": null,
      "justify_content": null,
      "justify_items": null,
      "left": null,
      "margin": null,
      "max_height": null,
      "max_width": null,
      "min_height": null,
      "min_width": null,
      "object_fit": null,
      "object_position": null,
      "order": null,
      "overflow": null,
      "overflow_x": null,
      "overflow_y": null,
      "padding": null,
      "right": null,
      "top": null,
      "visibility": null,
      "width": null
     }
    },
    "d96de75c493947c9be028b61bf07c64b": {
     "model_module": "@jupyter-widgets/base",
     "model_module_version": "1.2.0",
     "model_name": "LayoutModel",
     "state": {
      "_model_module": "@jupyter-widgets/base",
      "_model_module_version": "1.2.0",
      "_model_name": "LayoutModel",
      "_view_count": null,
      "_view_module": "@jupyter-widgets/base",
      "_view_module_version": "1.2.0",
      "_view_name": "LayoutView",
      "align_content": null,
      "align_items": null,
      "align_self": null,
      "border": null,
      "bottom": null,
      "display": null,
      "flex": null,
      "flex_flow": null,
      "grid_area": null,
      "grid_auto_columns": null,
      "grid_auto_flow": null,
      "grid_auto_rows": null,
      "grid_column": null,
      "grid_gap": null,
      "grid_row": null,
      "grid_template_areas": null,
      "grid_template_columns": null,
      "grid_template_rows": null,
      "height": null,
      "justify_content": null,
      "justify_items": null,
      "left": null,
      "margin": null,
      "max_height": null,
      "max_width": null,
      "min_height": null,
      "min_width": null,
      "object_fit": null,
      "object_position": null,
      "order": null,
      "overflow": null,
      "overflow_x": null,
      "overflow_y": null,
      "padding": null,
      "right": null,
      "top": null,
      "visibility": null,
      "width": null
     }
    },
    "de2a13c637ce401eaf374d87f158d06a": {
     "model_module": "@jupyter-widgets/controls",
     "model_module_version": "1.5.0",
     "model_name": "FloatProgressModel",
     "state": {
      "_dom_classes": [],
      "_model_module": "@jupyter-widgets/controls",
      "_model_module_version": "1.5.0",
      "_model_name": "FloatProgressModel",
      "_view_count": null,
      "_view_module": "@jupyter-widgets/controls",
      "_view_module_version": "1.5.0",
      "_view_name": "ProgressView",
      "bar_style": "success",
      "description": "Downloading: 100%",
      "description_tooltip": null,
      "layout": "IPY_MODEL_d796d066d09c4ae9b06556e0c7af8ece",
      "max": 995526,
      "min": 0,
      "orientation": "horizontal",
      "style": "IPY_MODEL_fd5411736e4a402b8fc6ed64a1726ca3",
      "value": 995526
     }
    },
    "debc56a5139a4c6c93623434226ff1ea": {
     "model_module": "@jupyter-widgets/base",
     "model_module_version": "1.2.0",
     "model_name": "LayoutModel",
     "state": {
      "_model_module": "@jupyter-widgets/base",
      "_model_module_version": "1.2.0",
      "_model_name": "LayoutModel",
      "_view_count": null,
      "_view_module": "@jupyter-widgets/base",
      "_view_module_version": "1.2.0",
      "_view_name": "LayoutView",
      "align_content": null,
      "align_items": null,
      "align_self": null,
      "border": null,
      "bottom": null,
      "display": null,
      "flex": null,
      "flex_flow": null,
      "grid_area": null,
      "grid_auto_columns": null,
      "grid_auto_flow": null,
      "grid_auto_rows": null,
      "grid_column": null,
      "grid_gap": null,
      "grid_row": null,
      "grid_template_areas": null,
      "grid_template_columns": null,
      "grid_template_rows": null,
      "height": null,
      "justify_content": null,
      "justify_items": null,
      "left": null,
      "margin": null,
      "max_height": null,
      "max_width": null,
      "min_height": null,
      "min_width": null,
      "object_fit": null,
      "object_position": null,
      "order": null,
      "overflow": null,
      "overflow_x": null,
      "overflow_y": null,
      "padding": null,
      "right": null,
      "top": null,
      "visibility": null,
      "width": null
     }
    },
    "e0817181b45c4bb3a668858cbfe40d77": {
     "model_module": "@jupyter-widgets/controls",
     "model_module_version": "1.5.0",
     "model_name": "FloatProgressModel",
     "state": {
      "_dom_classes": [],
      "_model_module": "@jupyter-widgets/controls",
      "_model_module_version": "1.5.0",
      "_model_name": "FloatProgressModel",
      "_view_count": null,
      "_view_module": "@jupyter-widgets/controls",
      "_view_module_version": "1.5.0",
      "_view_name": "ProgressView",
      "bar_style": "success",
      "description": "Downloading: 100%",
      "description_tooltip": null,
      "layout": "IPY_MODEL_47d4cfd9017e4671832aaa1ad10bc17d",
      "max": 714314041,
      "min": 0,
      "orientation": "horizontal",
      "style": "IPY_MODEL_a4fff8d730a74e02a51349c2ef52034e",
      "value": 714314041
     }
    },
    "e5d9d3662704403b995e237f038f009d": {
     "model_module": "@jupyter-widgets/controls",
     "model_module_version": "1.5.0",
     "model_name": "DescriptionStyleModel",
     "state": {
      "_model_module": "@jupyter-widgets/controls",
      "_model_module_version": "1.5.0",
      "_model_name": "DescriptionStyleModel",
      "_view_count": null,
      "_view_module": "@jupyter-widgets/base",
      "_view_module_version": "1.2.0",
      "_view_name": "StyleView",
      "description_width": ""
     }
    },
    "e7d1bac69f344db9801d8fd0e8715726": {
     "model_module": "@jupyter-widgets/base",
     "model_module_version": "1.2.0",
     "model_name": "LayoutModel",
     "state": {
      "_model_module": "@jupyter-widgets/base",
      "_model_module_version": "1.2.0",
      "_model_name": "LayoutModel",
      "_view_count": null,
      "_view_module": "@jupyter-widgets/base",
      "_view_module_version": "1.2.0",
      "_view_name": "LayoutView",
      "align_content": null,
      "align_items": null,
      "align_self": null,
      "border": null,
      "bottom": null,
      "display": null,
      "flex": null,
      "flex_flow": null,
      "grid_area": null,
      "grid_auto_columns": null,
      "grid_auto_flow": null,
      "grid_auto_rows": null,
      "grid_column": null,
      "grid_gap": null,
      "grid_row": null,
      "grid_template_areas": null,
      "grid_template_columns": null,
      "grid_template_rows": null,
      "height": null,
      "justify_content": null,
      "justify_items": null,
      "left": null,
      "margin": null,
      "max_height": null,
      "max_width": null,
      "min_height": null,
      "min_width": null,
      "object_fit": null,
      "object_position": null,
      "order": null,
      "overflow": null,
      "overflow_x": null,
      "overflow_y": null,
      "padding": null,
      "right": null,
      "top": null,
      "visibility": null,
      "width": null
     }
    },
    "f1c4a41cfafa4755b3120f9079aeb9ca": {
     "model_module": "@jupyter-widgets/controls",
     "model_module_version": "1.5.0",
     "model_name": "HBoxModel",
     "state": {
      "_dom_classes": [],
      "_model_module": "@jupyter-widgets/controls",
      "_model_module_version": "1.5.0",
      "_model_name": "HBoxModel",
      "_view_count": null,
      "_view_module": "@jupyter-widgets/controls",
      "_view_module_version": "1.5.0",
      "_view_name": "HBoxView",
      "box_style": "",
      "children": [
       "IPY_MODEL_93c9316fad8842fc882ea0a3307280f4",
       "IPY_MODEL_99d16aaa254947d7ae8869d008961473"
      ],
      "layout": "IPY_MODEL_304500cc65124eaeb09fd47a0df3aa26"
     }
    },
    "fd5411736e4a402b8fc6ed64a1726ca3": {
     "model_module": "@jupyter-widgets/controls",
     "model_module_version": "1.5.0",
     "model_name": "ProgressStyleModel",
     "state": {
      "_model_module": "@jupyter-widgets/controls",
      "_model_module_version": "1.5.0",
      "_model_name": "ProgressStyleModel",
      "_view_count": null,
      "_view_module": "@jupyter-widgets/base",
      "_view_module_version": "1.2.0",
      "_view_name": "StyleView",
      "bar_color": null,
      "description_width": "initial"
     }
    },
    "ff7192f969374ea89e3358d0d56d979a": {
     "model_module": "@jupyter-widgets/controls",
     "model_module_version": "1.5.0",
     "model_name": "DescriptionStyleModel",
     "state": {
      "_model_module": "@jupyter-widgets/controls",
      "_model_module_version": "1.5.0",
      "_model_name": "DescriptionStyleModel",
      "_view_count": null,
      "_view_module": "@jupyter-widgets/base",
      "_view_module_version": "1.2.0",
      "_view_name": "StyleView",
      "description_width": ""
     }
    }
   }
  }
 },
 "nbformat": 4,
 "nbformat_minor": 4
}
